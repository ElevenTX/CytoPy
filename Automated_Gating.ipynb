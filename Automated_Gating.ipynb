{
 "cells": [
  {
   "cell_type": "markdown",
   "metadata": {},
   "source": [
    "<h1>Automated Gating with Immunova</h1>\n",
    "\n",
    "This is the first of three experiments comparing the automated gating in immunova to expert manual gating. For this experiment I will be using pre-gated data from peritoneal dialysis patients.\n",
    "\n",
    "<h3>Create project and experiments</h3>"
   ]
  },
  {
   "cell_type": "code",
   "execution_count": 1,
   "metadata": {},
   "outputs": [],
   "source": [
    "from immunova.data.project import Project\n",
    "from immunova.data.mongo_setup import global_init\n",
    "from immunova.data.fcs_experiments import FCSExperiment, Panel\n",
    "from immunova.data.utilities import get_fcs_file_paths\n",
    "from immunova.flow.readwrite.read_fcs import explore_channel_mappings\n",
    "from tqdm import tqdm_notebook, tqdm\n",
    "import pandas as pd\n",
    "global_init()"
   ]
  },
  {
   "cell_type": "code",
   "execution_count": 2,
   "metadata": {},
   "outputs": [
    {
     "ename": "NotUniqueError",
     "evalue": "Tried to save duplicate unique keys (E11000 duplicate key error collection: immunova.projects index: project_id_1 dup key: { project_id: \"Peritonitis\" })",
     "output_type": "error",
     "traceback": [
      "\u001b[0;31m---------------------------------------------------------------------------\u001b[0m",
      "\u001b[0;31mDuplicateKeyError\u001b[0m                         Traceback (most recent call last)",
      "\u001b[0;32m~/immunova/env/lib/python3.6/site-packages/mongoengine/document.py\u001b[0m in \u001b[0;36msave\u001b[0;34m(self, force_insert, validate, clean, write_concern, cascade, cascade_kwargs, _refs, save_condition, signal_kwargs, **kwargs)\u001b[0m\n\u001b[1;32m    387\u001b[0m             \u001b[0;32mif\u001b[0m \u001b[0mcreated\u001b[0m\u001b[0;34m:\u001b[0m\u001b[0;34m\u001b[0m\u001b[0;34m\u001b[0m\u001b[0m\n\u001b[0;32m--> 388\u001b[0;31m                 \u001b[0mobject_id\u001b[0m \u001b[0;34m=\u001b[0m \u001b[0mself\u001b[0m\u001b[0;34m.\u001b[0m\u001b[0m_save_create\u001b[0m\u001b[0;34m(\u001b[0m\u001b[0mdoc\u001b[0m\u001b[0;34m,\u001b[0m \u001b[0mforce_insert\u001b[0m\u001b[0;34m,\u001b[0m \u001b[0mwrite_concern\u001b[0m\u001b[0;34m)\u001b[0m\u001b[0;34m\u001b[0m\u001b[0;34m\u001b[0m\u001b[0m\n\u001b[0m\u001b[1;32m    389\u001b[0m             \u001b[0;32melse\u001b[0m\u001b[0;34m:\u001b[0m\u001b[0;34m\u001b[0m\u001b[0;34m\u001b[0m\u001b[0m\n",
      "\u001b[0;32m~/immunova/env/lib/python3.6/site-packages/mongoengine/document.py\u001b[0m in \u001b[0;36m_save_create\u001b[0;34m(self, doc, force_insert, write_concern)\u001b[0m\n\u001b[1;32m    450\u001b[0m \u001b[0;34m\u001b[0m\u001b[0m\n\u001b[0;32m--> 451\u001b[0;31m             \u001b[0mobject_id\u001b[0m \u001b[0;34m=\u001b[0m \u001b[0mwc_collection\u001b[0m\u001b[0;34m.\u001b[0m\u001b[0minsert_one\u001b[0m\u001b[0;34m(\u001b[0m\u001b[0mdoc\u001b[0m\u001b[0;34m)\u001b[0m\u001b[0;34m.\u001b[0m\u001b[0minserted_id\u001b[0m\u001b[0;34m\u001b[0m\u001b[0;34m\u001b[0m\u001b[0m\n\u001b[0m\u001b[1;32m    452\u001b[0m \u001b[0;34m\u001b[0m\u001b[0m\n",
      "\u001b[0;32m~/immunova/env/lib/python3.6/site-packages/pymongo/collection.py\u001b[0m in \u001b[0;36minsert_one\u001b[0;34m(self, document, bypass_document_validation, session)\u001b[0m\n\u001b[1;32m    697\u001b[0m                          \u001b[0mbypass_doc_val\u001b[0m\u001b[0;34m=\u001b[0m\u001b[0mbypass_document_validation\u001b[0m\u001b[0;34m,\u001b[0m\u001b[0;34m\u001b[0m\u001b[0;34m\u001b[0m\u001b[0m\n\u001b[0;32m--> 698\u001b[0;31m                          session=session),\n\u001b[0m\u001b[1;32m    699\u001b[0m             write_concern.acknowledged)\n",
      "\u001b[0;32m~/immunova/env/lib/python3.6/site-packages/pymongo/collection.py\u001b[0m in \u001b[0;36m_insert\u001b[0;34m(self, docs, ordered, check_keys, manipulate, write_concern, op_id, bypass_doc_val, session)\u001b[0m\n\u001b[1;32m    611\u001b[0m                 \u001b[0mdocs\u001b[0m\u001b[0;34m,\u001b[0m \u001b[0mordered\u001b[0m\u001b[0;34m,\u001b[0m \u001b[0mcheck_keys\u001b[0m\u001b[0;34m,\u001b[0m \u001b[0mmanipulate\u001b[0m\u001b[0;34m,\u001b[0m \u001b[0mwrite_concern\u001b[0m\u001b[0;34m,\u001b[0m \u001b[0mop_id\u001b[0m\u001b[0;34m,\u001b[0m\u001b[0;34m\u001b[0m\u001b[0;34m\u001b[0m\u001b[0m\n\u001b[0;32m--> 612\u001b[0;31m                 bypass_doc_val, session)\n\u001b[0m\u001b[1;32m    613\u001b[0m \u001b[0;34m\u001b[0m\u001b[0m\n",
      "\u001b[0;32m~/immunova/env/lib/python3.6/site-packages/pymongo/collection.py\u001b[0m in \u001b[0;36m_insert_one\u001b[0;34m(self, doc, ordered, check_keys, manipulate, write_concern, op_id, bypass_doc_val, session)\u001b[0m\n\u001b[1;32m    599\u001b[0m         self.__database.client._retryable_write(\n\u001b[0;32m--> 600\u001b[0;31m             acknowledged, _insert_command, session)\n\u001b[0m\u001b[1;32m    601\u001b[0m \u001b[0;34m\u001b[0m\u001b[0m\n",
      "\u001b[0;32m~/immunova/env/lib/python3.6/site-packages/pymongo/mongo_client.py\u001b[0m in \u001b[0;36m_retryable_write\u001b[0;34m(self, retryable, func, session)\u001b[0m\n\u001b[1;32m   1491\u001b[0m         \u001b[0;32mwith\u001b[0m \u001b[0mself\u001b[0m\u001b[0;34m.\u001b[0m\u001b[0m_tmp_session\u001b[0m\u001b[0;34m(\u001b[0m\u001b[0msession\u001b[0m\u001b[0;34m)\u001b[0m \u001b[0;32mas\u001b[0m \u001b[0ms\u001b[0m\u001b[0;34m:\u001b[0m\u001b[0;34m\u001b[0m\u001b[0;34m\u001b[0m\u001b[0m\n\u001b[0;32m-> 1492\u001b[0;31m             \u001b[0;32mreturn\u001b[0m \u001b[0mself\u001b[0m\u001b[0;34m.\u001b[0m\u001b[0m_retry_with_session\u001b[0m\u001b[0;34m(\u001b[0m\u001b[0mretryable\u001b[0m\u001b[0;34m,\u001b[0m \u001b[0mfunc\u001b[0m\u001b[0;34m,\u001b[0m \u001b[0ms\u001b[0m\u001b[0;34m,\u001b[0m \u001b[0;32mNone\u001b[0m\u001b[0;34m)\u001b[0m\u001b[0;34m\u001b[0m\u001b[0;34m\u001b[0m\u001b[0m\n\u001b[0m\u001b[1;32m   1493\u001b[0m \u001b[0;34m\u001b[0m\u001b[0m\n",
      "\u001b[0;32m~/immunova/env/lib/python3.6/site-packages/pymongo/mongo_client.py\u001b[0m in \u001b[0;36m_retry_with_session\u001b[0;34m(self, retryable, func, session, bulk)\u001b[0m\n\u001b[1;32m   1384\u001b[0m                         \u001b[0mretryable\u001b[0m \u001b[0;34m=\u001b[0m \u001b[0;32mFalse\u001b[0m\u001b[0;34m\u001b[0m\u001b[0;34m\u001b[0m\u001b[0m\n\u001b[0;32m-> 1385\u001b[0;31m                     \u001b[0;32mreturn\u001b[0m \u001b[0mfunc\u001b[0m\u001b[0;34m(\u001b[0m\u001b[0msession\u001b[0m\u001b[0;34m,\u001b[0m \u001b[0msock_info\u001b[0m\u001b[0;34m,\u001b[0m \u001b[0mretryable\u001b[0m\u001b[0;34m)\u001b[0m\u001b[0;34m\u001b[0m\u001b[0;34m\u001b[0m\u001b[0m\n\u001b[0m\u001b[1;32m   1386\u001b[0m             \u001b[0;32mexcept\u001b[0m \u001b[0mServerSelectionTimeoutError\u001b[0m\u001b[0;34m:\u001b[0m\u001b[0;34m\u001b[0m\u001b[0;34m\u001b[0m\u001b[0m\n",
      "\u001b[0;32m~/immunova/env/lib/python3.6/site-packages/pymongo/collection.py\u001b[0m in \u001b[0;36m_insert_command\u001b[0;34m(session, sock_info, retryable_write)\u001b[0m\n\u001b[1;32m    596\u001b[0m \u001b[0;34m\u001b[0m\u001b[0m\n\u001b[0;32m--> 597\u001b[0;31m             \u001b[0m_check_write_command_response\u001b[0m\u001b[0;34m(\u001b[0m\u001b[0mresult\u001b[0m\u001b[0;34m)\u001b[0m\u001b[0;34m\u001b[0m\u001b[0;34m\u001b[0m\u001b[0m\n\u001b[0m\u001b[1;32m    598\u001b[0m \u001b[0;34m\u001b[0m\u001b[0m\n",
      "\u001b[0;32m~/immunova/env/lib/python3.6/site-packages/pymongo/helpers.py\u001b[0m in \u001b[0;36m_check_write_command_response\u001b[0;34m(result)\u001b[0m\n\u001b[1;32m    220\u001b[0m     \u001b[0;32mif\u001b[0m \u001b[0mwrite_errors\u001b[0m\u001b[0;34m:\u001b[0m\u001b[0;34m\u001b[0m\u001b[0;34m\u001b[0m\u001b[0m\n\u001b[0;32m--> 221\u001b[0;31m         \u001b[0m_raise_last_write_error\u001b[0m\u001b[0;34m(\u001b[0m\u001b[0mwrite_errors\u001b[0m\u001b[0;34m)\u001b[0m\u001b[0;34m\u001b[0m\u001b[0;34m\u001b[0m\u001b[0m\n\u001b[0m\u001b[1;32m    222\u001b[0m \u001b[0;34m\u001b[0m\u001b[0m\n",
      "\u001b[0;32m~/immunova/env/lib/python3.6/site-packages/pymongo/helpers.py\u001b[0m in \u001b[0;36m_raise_last_write_error\u001b[0;34m(write_errors)\u001b[0m\n\u001b[1;32m    201\u001b[0m     \u001b[0;32mif\u001b[0m \u001b[0merror\u001b[0m\u001b[0;34m.\u001b[0m\u001b[0mget\u001b[0m\u001b[0;34m(\u001b[0m\u001b[0;34m\"code\"\u001b[0m\u001b[0;34m)\u001b[0m \u001b[0;34m==\u001b[0m \u001b[0;36m11000\u001b[0m\u001b[0;34m:\u001b[0m\u001b[0;34m\u001b[0m\u001b[0;34m\u001b[0m\u001b[0m\n\u001b[0;32m--> 202\u001b[0;31m         \u001b[0;32mraise\u001b[0m \u001b[0mDuplicateKeyError\u001b[0m\u001b[0;34m(\u001b[0m\u001b[0merror\u001b[0m\u001b[0;34m.\u001b[0m\u001b[0mget\u001b[0m\u001b[0;34m(\u001b[0m\u001b[0;34m\"errmsg\"\u001b[0m\u001b[0;34m)\u001b[0m\u001b[0;34m,\u001b[0m \u001b[0;36m11000\u001b[0m\u001b[0;34m,\u001b[0m \u001b[0merror\u001b[0m\u001b[0;34m)\u001b[0m\u001b[0;34m\u001b[0m\u001b[0;34m\u001b[0m\u001b[0m\n\u001b[0m\u001b[1;32m    203\u001b[0m     \u001b[0;32mraise\u001b[0m \u001b[0mWriteError\u001b[0m\u001b[0;34m(\u001b[0m\u001b[0merror\u001b[0m\u001b[0;34m.\u001b[0m\u001b[0mget\u001b[0m\u001b[0;34m(\u001b[0m\u001b[0;34m\"errmsg\"\u001b[0m\u001b[0;34m)\u001b[0m\u001b[0;34m,\u001b[0m \u001b[0merror\u001b[0m\u001b[0;34m.\u001b[0m\u001b[0mget\u001b[0m\u001b[0;34m(\u001b[0m\u001b[0;34m\"code\"\u001b[0m\u001b[0;34m)\u001b[0m\u001b[0;34m,\u001b[0m \u001b[0merror\u001b[0m\u001b[0;34m)\u001b[0m\u001b[0;34m\u001b[0m\u001b[0;34m\u001b[0m\u001b[0m\n",
      "\u001b[0;31mDuplicateKeyError\u001b[0m: E11000 duplicate key error collection: immunova.projects index: project_id_1 dup key: { project_id: \"Peritonitis\" }",
      "\nDuring handling of the above exception, another exception occurred:\n",
      "\u001b[0;31mNotUniqueError\u001b[0m                            Traceback (most recent call last)",
      "\u001b[0;32m<ipython-input-2-c8818ac657a3>\u001b[0m in \u001b[0;36m<module>\u001b[0;34m\u001b[0m\n\u001b[1;32m      1\u001b[0m \u001b[0mpd_project\u001b[0m \u001b[0;34m=\u001b[0m \u001b[0mProject\u001b[0m\u001b[0;34m(\u001b[0m\u001b[0mproject_id\u001b[0m\u001b[0;34m=\u001b[0m\u001b[0;34m'Peritonitis'\u001b[0m\u001b[0;34m,\u001b[0m \u001b[0mowner\u001b[0m\u001b[0;34m=\u001b[0m\u001b[0;34m'burtonrossj'\u001b[0m\u001b[0;34m)\u001b[0m\u001b[0;34m\u001b[0m\u001b[0;34m\u001b[0m\u001b[0m\n\u001b[0;32m----> 2\u001b[0;31m \u001b[0mpd_project\u001b[0m\u001b[0;34m.\u001b[0m\u001b[0msave\u001b[0m\u001b[0;34m(\u001b[0m\u001b[0;34m)\u001b[0m\u001b[0;34m\u001b[0m\u001b[0;34m\u001b[0m\u001b[0m\n\u001b[0m",
      "\u001b[0;32m~/immunova/env/lib/python3.6/site-packages/mongoengine/document.py\u001b[0m in \u001b[0;36msave\u001b[0;34m(self, force_insert, validate, clean, write_concern, cascade, cascade_kwargs, _refs, save_condition, signal_kwargs, **kwargs)\u001b[0m\n\u001b[1;32m    409\u001b[0m         \u001b[0;32mexcept\u001b[0m \u001b[0mpymongo\u001b[0m\u001b[0;34m.\u001b[0m\u001b[0merrors\u001b[0m\u001b[0;34m.\u001b[0m\u001b[0mDuplicateKeyError\u001b[0m \u001b[0;32mas\u001b[0m \u001b[0merr\u001b[0m\u001b[0;34m:\u001b[0m\u001b[0;34m\u001b[0m\u001b[0;34m\u001b[0m\u001b[0m\n\u001b[1;32m    410\u001b[0m             \u001b[0mmessage\u001b[0m \u001b[0;34m=\u001b[0m \u001b[0;34m'Tried to save duplicate unique keys (%s)'\u001b[0m\u001b[0;34m\u001b[0m\u001b[0;34m\u001b[0m\u001b[0m\n\u001b[0;32m--> 411\u001b[0;31m             \u001b[0;32mraise\u001b[0m \u001b[0mNotUniqueError\u001b[0m\u001b[0;34m(\u001b[0m\u001b[0mmessage\u001b[0m \u001b[0;34m%\u001b[0m \u001b[0msix\u001b[0m\u001b[0;34m.\u001b[0m\u001b[0mtext_type\u001b[0m\u001b[0;34m(\u001b[0m\u001b[0merr\u001b[0m\u001b[0;34m)\u001b[0m\u001b[0;34m)\u001b[0m\u001b[0;34m\u001b[0m\u001b[0;34m\u001b[0m\u001b[0m\n\u001b[0m\u001b[1;32m    412\u001b[0m         \u001b[0;32mexcept\u001b[0m \u001b[0mpymongo\u001b[0m\u001b[0;34m.\u001b[0m\u001b[0merrors\u001b[0m\u001b[0;34m.\u001b[0m\u001b[0mOperationFailure\u001b[0m \u001b[0;32mas\u001b[0m \u001b[0merr\u001b[0m\u001b[0;34m:\u001b[0m\u001b[0;34m\u001b[0m\u001b[0;34m\u001b[0m\u001b[0m\n\u001b[1;32m    413\u001b[0m             \u001b[0mmessage\u001b[0m \u001b[0;34m=\u001b[0m \u001b[0;34m'Could not save document (%s)'\u001b[0m\u001b[0;34m\u001b[0m\u001b[0;34m\u001b[0m\u001b[0m\n",
      "\u001b[0;31mNotUniqueError\u001b[0m: Tried to save duplicate unique keys (E11000 duplicate key error collection: immunova.projects index: project_id_1 dup key: { project_id: \"Peritonitis\" })"
     ]
    }
   ],
   "source": [
    "pd_project = Project(project_id='Peritonitis', owner='burtonrossj')\n",
    "pd_project.save()"
   ]
  },
  {
   "cell_type": "code",
   "execution_count": 5,
   "metadata": {},
   "outputs": [
    {
     "data": {
      "text/plain": [
       "'5d822c08a5130a969aafe40b'"
      ]
     },
     "execution_count": 5,
     "metadata": {},
     "output_type": "execute_result"
    }
   ],
   "source": [
    "pd_project.id.__str__()"
   ]
  },
  {
   "cell_type": "markdown",
   "metadata": {},
   "source": [
    "I will create four experiments in total:\n",
    "* PBMC_T: T cell panel for PBMC samples\n",
    "* PBMC_M: Myeloid cell panel for PBMC samples\n",
    "* PDMC_T: T cell panel for peritoneal fluid samples\n",
    "* PDMC_M: Myeloid cell panel for peritoneal fluid samples\n",
    "\n",
    "For each of these experiments I need to associate a flow cytometry panel. A Panel object defines the channel(fluorochrome)/marker(antibody) mappings for all associated flow data. This allows for standardisation of the flow cytometry meta-data at the point of entry.\n",
    "\n",
    "Panel objects can be created from a python dictionary object or using an excel template. In this case I have created an excel template (see documentation for details on creating panel templates).\n",
    "\n",
    "It is often useful to explore the channel and marker names of a large selection of fcs files to get a feel for the naming conventions and make sure you have convered all edge cases. There is a useful utility function in `immunova.flow.readwrite.read_fcs` called `explore_channel_mappings`. Given a directory, the function will search for all `.fcs` files and return all permutations of channel/marker pairings found."
   ]
  },
  {
   "cell_type": "code",
   "execution_count": null,
   "metadata": {},
   "outputs": [],
   "source": [
    "cm_permutations = explore_channel_mappings('/media/ross/FCS_DATA/Raya PD Samples/ds_friendly')"
   ]
  },
  {
   "cell_type": "code",
   "execution_count": 6,
   "metadata": {},
   "outputs": [
    {
     "data": {
      "text/plain": [
       "20"
      ]
     },
     "execution_count": 6,
     "metadata": {},
     "output_type": "execute_result"
    }
   ],
   "source": [
    "len(cm_permutations)"
   ]
  },
  {
   "cell_type": "markdown",
   "metadata": {},
   "source": [
    "So there is 20 permutations for the different ways that markers have been labelled in fcs files. I can account for most cases using regular expression but in a few cases (e.g. live/dead staining) I have added like-for-like matches in the templates."
   ]
  },
  {
   "cell_type": "code",
   "execution_count": 6,
   "metadata": {},
   "outputs": [],
   "source": [
    "t_panel = Panel(panel_name='peritonitis_t_panel')\n",
    "m_panel = Panel(panel_name='peritonitis_m_panel')"
   ]
  },
  {
   "cell_type": "code",
   "execution_count": 7,
   "metadata": {},
   "outputs": [
    {
     "data": {
      "text/plain": [
       "True"
      ]
     },
     "execution_count": 7,
     "metadata": {},
     "output_type": "execute_result"
    }
   ],
   "source": [
    "t_panel.create_from_excel(path='experiment_data/peritonitis_t_template.xlsx')"
   ]
  },
  {
   "cell_type": "code",
   "execution_count": 8,
   "metadata": {},
   "outputs": [
    {
     "data": {
      "text/plain": [
       "True"
      ]
     },
     "execution_count": 8,
     "metadata": {},
     "output_type": "execute_result"
    }
   ],
   "source": [
    "m_panel.create_from_excel(path='experiment_data/peritonitis_m_template.xlsx')"
   ]
  },
  {
   "cell_type": "markdown",
   "metadata": {},
   "source": [
    "The `create_from_excel` method will populate the Panel object using the excel template. I can now save the panels to the database."
   ]
  },
  {
   "cell_type": "code",
   "execution_count": 9,
   "metadata": {},
   "outputs": [
    {
     "data": {
      "text/plain": [
       "<Panel: Panel object>"
      ]
     },
     "execution_count": 9,
     "metadata": {},
     "output_type": "execute_result"
    }
   ],
   "source": [
    "t_panel.save()\n",
    "m_panel.save()"
   ]
  },
  {
   "cell_type": "markdown",
   "metadata": {},
   "source": [
    "With the panels created I can now create the experiments. When you create an experiment you must always associate it to a project. We therefore use the `add_experiment` method of the Project object."
   ]
  },
  {
   "cell_type": "code",
   "execution_count": 10,
   "metadata": {},
   "outputs": [
    {
     "name": "stdout",
     "output_type": "stream",
     "text": [
      "Experiment created successfully!\n",
      "Experiment created successfully!\n",
      "Experiment created successfully!\n",
      "Experiment created successfully!\n"
     ]
    }
   ],
   "source": [
    "pbmc_t = pd_project.add_experiment(experiment_id='PBMC_T', panel_name='peritonitis_t_panel')\n",
    "pdmc_t = pd_project.add_experiment(experiment_id='PDMC_T', panel_name='peritonitis_t_panel')\n",
    "pbmc_m = pd_project.add_experiment(experiment_id='PBMC_M', panel_name='peritonitis_m_panel')\n",
    "pdmc_m = pd_project.add_experiment(experiment_id='PDMC_M', panel_name='peritonitis_m_panel')"
   ]
  },
  {
   "cell_type": "markdown",
   "metadata": {},
   "source": [
    "Now that the experiments are created I can start adding the fcs files. The `add_new_sample` method is used to generate a new fcs file entry into the mongo database, which is then associated to the experiment. See the documentation below:\n"
   ]
  },
  {
   "cell_type": "code",
   "execution_count": 11,
   "metadata": {},
   "outputs": [
    {
     "data": {
      "text/plain": [
       "\u001b[0;31mSignature:\u001b[0m\n",
       "\u001b[0mpbmc_t\u001b[0m\u001b[0;34m.\u001b[0m\u001b[0madd_new_sample\u001b[0m\u001b[0;34m(\u001b[0m\u001b[0;34m\u001b[0m\n",
       "\u001b[0;34m\u001b[0m    \u001b[0msample_id\u001b[0m\u001b[0;34m:\u001b[0m\u001b[0mstr\u001b[0m\u001b[0;34m,\u001b[0m\u001b[0;34m\u001b[0m\n",
       "\u001b[0;34m\u001b[0m    \u001b[0mfile_path\u001b[0m\u001b[0;34m:\u001b[0m\u001b[0mstr\u001b[0m\u001b[0;34m,\u001b[0m\u001b[0;34m\u001b[0m\n",
       "\u001b[0;34m\u001b[0m    \u001b[0mcontrols\u001b[0m\u001b[0;34m:\u001b[0m\u001b[0mlist\u001b[0m\u001b[0;34m,\u001b[0m\u001b[0;34m\u001b[0m\n",
       "\u001b[0;34m\u001b[0m    \u001b[0mcomp_matrix\u001b[0m\u001b[0;34m:\u001b[0m\u001b[0;34m<\u001b[0m\u001b[0mbuilt\u001b[0m\u001b[0;34m-\u001b[0m\u001b[0;32min\u001b[0m \u001b[0mfunction\u001b[0m \u001b[0marray\u001b[0m\u001b[0;34m>=\u001b[0m\u001b[0;32mNone\u001b[0m\u001b[0;34m,\u001b[0m\u001b[0;34m\u001b[0m\n",
       "\u001b[0;34m\u001b[0m    \u001b[0mcompensate\u001b[0m\u001b[0;34m:\u001b[0m\u001b[0mbool\u001b[0m\u001b[0;34m=\u001b[0m\u001b[0;32mTrue\u001b[0m\u001b[0;34m,\u001b[0m\u001b[0;34m\u001b[0m\n",
       "\u001b[0;34m\u001b[0m    \u001b[0mfeedback\u001b[0m\u001b[0;34m:\u001b[0m\u001b[0mbool\u001b[0m\u001b[0;34m=\u001b[0m\u001b[0;32mTrue\u001b[0m\u001b[0;34m,\u001b[0m\u001b[0;34m\u001b[0m\n",
       "\u001b[0;34m\u001b[0m\u001b[0;34m)\u001b[0m \u001b[0;34m->\u001b[0m \u001b[0mstr\u001b[0m\u001b[0;34m\u001b[0m\u001b[0;34m\u001b[0m\u001b[0m\n",
       "\u001b[0;31mDocstring:\u001b[0m\n",
       "Add a new sample (FileGroup) to this experiment\n",
       ":param sample_id: primary ID for identification of sample (FileGroup.primary_id)\n",
       ":param file_path: file path of the primary fcs file (e.g. the fcs file that is of primary interest such as the\n",
       "file with complete staining)\n",
       ":param controls: list of file paths for control files e.g. a list of file paths for associated FMO controls\n",
       ":param comp_matrix: (optional) numpy array for spillover matrix for compensation calculation; if not supplied\n",
       "the matrix linked within the fcs file will be used, if not present will present an error\n",
       ":param compensate: boolean value as to whether compensation should be applied before data entry (default=True)\n",
       ":param feedback: boolean value, if True function will provide feedback in the form of print statements\n",
       "(default=True)\n",
       ":return: MongoDB ObjectID string for new FileGroup entry\n",
       "\u001b[0;31mFile:\u001b[0m      ~/immunova/immunova/data/fcs_experiments.py\n",
       "\u001b[0;31mType:\u001b[0m      method\n"
      ]
     },
     "metadata": {},
     "output_type": "display_data"
    }
   ],
   "source": [
    "?pbmc_t.add_new_sample"
   ]
  },
  {
   "cell_type": "markdown",
   "metadata": {},
   "source": [
    "<h3>Add PDMC files (Myeloid cell panel)</h3>\n",
    "\n",
    "A summary table of all the samples collected in the peritonitis study can provide us with the sample numbers and the manual gating results."
   ]
  },
  {
   "cell_type": "code",
   "execution_count": 12,
   "metadata": {},
   "outputs": [],
   "source": [
    "summary = pd.read_excel('/media/ross/FCS_DATA/Raya PD Samples/ClinicalData_and_ManualGatingResults.xlsx')"
   ]
  },
  {
   "cell_type": "code",
   "execution_count": 13,
   "metadata": {},
   "outputs": [],
   "source": [
    "pdmc_sample_ids = summary[summary['Cell origin'] == 'PDMC']['Patient no.'].values"
   ]
  },
  {
   "cell_type": "code",
   "execution_count": 14,
   "metadata": {},
   "outputs": [
    {
     "data": {
      "text/plain": [
       "array(['142-09', '175-09', '209-03', '209-05', '210-12', '210-14',\n",
       "       '229-02', '237-06', '239-02', '239-04', '251-07', '251-08',\n",
       "       '254-04', '254-05', '255-04', '255-05', '262-01', '264-02',\n",
       "       '267-01', '267-02', '272-01', '273-01', '276-01', '279-03',\n",
       "       '286-02', '286-03', '286-04', '288-02', '289-01', '294-01',\n",
       "       '294-02', '294-03', '295-01', '298-01', '302-01', '305-01',\n",
       "       '305-02', '305-03', '306-01', '307-01', '308-01', '308-02R',\n",
       "       '308-03R', '308-04', '310-01', '315-01', '315-02', '316-01',\n",
       "       '318-01', '320-01', '321-01', '322-01', '323-01', '323-02',\n",
       "       '324-01', '326-01'], dtype=object)"
      ]
     },
     "execution_count": 14,
     "metadata": {},
     "output_type": "execute_result"
    }
   ],
   "source": [
    "pdmc_sample_ids"
   ]
  },
  {
   "cell_type": "markdown",
   "metadata": {},
   "source": [
    "We can use the utility functin `get_fcs_file_paths` from immunova's data module to generate file paths for adding samples."
   ]
  },
  {
   "cell_type": "code",
   "execution_count": 15,
   "metadata": {},
   "outputs": [
    {
     "data": {
      "text/plain": [
       "{'primary': ['/media/ross/FCS_DATA/Raya PD Samples/ds_friendly/PDMC/142-09/m_panel/Peri 142-09R PDMC 1 N Panel_N1_013.fcs'],\n",
       " 'controls': [{'control_id': 'CD1c',\n",
       "   'path': '/media/ross/FCS_DATA/Raya PD Samples/ds_friendly/PDMC/142-09/m_panel/Peri 142-09R PDMC 1 N Panel_N2 FMO CD1c_014.fcs'},\n",
       "  {'control_id': 'HLA-DR',\n",
       "   'path': '/media/ross/FCS_DATA/Raya PD Samples/ds_friendly/PDMC/142-09/m_panel/Peri 142-09R PDMC 1 N Panel_N2 FMO CD1c_014.fcs'},\n",
       "  {'control_id': 'CD1c',\n",
       "   'path': '/media/ross/FCS_DATA/Raya PD Samples/ds_friendly/PDMC/142-09/m_panel/Peri 142-09R PDMC 1 N Panel_N3 FMO HLA-DR_015.fcs'},\n",
       "  {'control_id': 'HLA-DR',\n",
       "   'path': '/media/ross/FCS_DATA/Raya PD Samples/ds_friendly/PDMC/142-09/m_panel/Peri 142-09R PDMC 1 N Panel_N3 FMO HLA-DR_015.fcs'}]}"
      ]
     },
     "execution_count": 15,
     "metadata": {},
     "output_type": "execute_result"
    }
   ],
   "source": [
    "get_fcs_file_paths(fcs_dir='/media/ross/FCS_DATA/Raya PD Samples/ds_friendly/PDMC/142-09/m_panel',\n",
    "                  control_names=['CD1c', 'HLA-DR'], ctrl_id='FMO')"
   ]
  },
  {
   "cell_type": "code",
   "execution_count": 16,
   "metadata": {},
   "outputs": [],
   "source": [
    "pdmc_m_142_09 = get_fcs_file_paths(fcs_dir='/media/ross/FCS_DATA/Raya PD Samples/ds_friendly/PDMC/142-09/m_panel',\n",
    "                  control_names=['CD1c', 'HLA-DR'], ctrl_id='FMO')\n",
    "primary = pdmc_m_142_09['primary'][0]\n",
    "controls = pdmc_m_142_09['controls']"
   ]
  },
  {
   "cell_type": "code",
   "execution_count": 17,
   "metadata": {},
   "outputs": [
    {
     "name": "stdout",
     "output_type": "stream",
     "text": [
      "Generating main file entry...\n",
      "FSC-W,  pair not found!\n",
      "Column mappings: dict_items([('FSC-A_', ['FSC-A', '']), ('FSC-H_', ['FSC-H', '']), ('SSC-A_', ['SSC-A', '']), ('SSC-H_', ['SSC-H', '']), ('SSC-W_', ['SSC-W', '']), ('Alexa Fluor 488-A_CD14 FITC', ['Alexa Fluor 488-A', 'CD14']), ('PerCP-A_CD16 PerCP-CY5-5', ['PerCP-A', 'CD16']), ('Alexa Fluor 647-A_Siglec8 APC', ['Alexa Fluor 647-A', 'Siglec-8']), ('Alexa Fluor 700-A_CD45', ['Alexa Fluor 700-A', 'CD45']), ('APC-Cy7-A_CD3 APC Fire 750', ['APC-Cy7-A', 'CD3']), ('Alexa Fluor 405-A_CD1c BV421', ['Alexa Fluor 405-A', 'CD1c']), ('AmCyan-A_Dead V500', ['AmCyan-A', 'L/D']), ('BV605-A_CD15', ['BV605-A', 'CD15']), ('BV711-A_HLA-DR', ['BV711-A', 'HLA-DR']), ('PE-A_CD116', ['PE-A', 'CD116']), ('PE-Cy7-A_CD19', ['PE-Cy7-A', 'CD19']), ('Time_', ['Time', ''])])\n",
      "Error: invalid channel/marker mappings for pd142_09_m, at path /media/ross/FCS_DATA/Raya PD Samples/ds_friendly/PDMC/142-09/m_panel/Peri 142-09R PDMC 1 N Panel_N1_013.fcs, aborting.\n"
     ]
    }
   ],
   "source": [
    "pdmc_m.add_new_sample(sample_id='pd142_09_m', file_path=primary, controls=controls)"
   ]
  },
  {
   "cell_type": "code",
   "execution_count": 18,
   "metadata": {},
   "outputs": [],
   "source": [
    "from immunova.flow.readwrite.read_fcs import FCSFile"
   ]
  },
  {
   "cell_type": "code",
   "execution_count": 19,
   "metadata": {},
   "outputs": [],
   "source": [
    "fcs = FCSFile(primary)"
   ]
  },
  {
   "cell_type": "code",
   "execution_count": 20,
   "metadata": {},
   "outputs": [
    {
     "data": {
      "text/plain": [
       "[{'channel': 'FSC-A', 'marker': ''},\n",
       " {'channel': 'FSC-H', 'marker': ''},\n",
       " {'channel': 'SSC-A', 'marker': ''},\n",
       " {'channel': 'SSC-H', 'marker': ''},\n",
       " {'channel': 'SSC-W', 'marker': ''},\n",
       " {'channel': 'Alexa Fluor 488-A', 'marker': 'CD14 FITC'},\n",
       " {'channel': 'PerCP-A', 'marker': 'CD16 PerCP-CY5-5'},\n",
       " {'channel': 'Alexa Fluor 647-A', 'marker': 'Siglec8 APC'},\n",
       " {'channel': 'Alexa Fluor 700-A', 'marker': 'CD45'},\n",
       " {'channel': 'APC-Cy7-A', 'marker': 'CD3 APC Fire 750'},\n",
       " {'channel': 'Alexa Fluor 405-A', 'marker': 'CD1c BV421'},\n",
       " {'channel': 'AmCyan-A', 'marker': 'Dead V500'},\n",
       " {'channel': 'BV605-A', 'marker': 'CD15'},\n",
       " {'channel': 'BV711-A', 'marker': 'HLA-DR'},\n",
       " {'channel': 'PE-A', 'marker': 'CD116'},\n",
       " {'channel': 'PE-Cy7-A', 'marker': 'CD19'},\n",
       " {'channel': 'Time', 'marker': ''}]"
      ]
     },
     "execution_count": 20,
     "metadata": {},
     "output_type": "execute_result"
    }
   ],
   "source": [
    "fcs.fluoro_mappings"
   ]
  },
  {
   "cell_type": "code",
   "execution_count": 21,
   "metadata": {},
   "outputs": [],
   "source": [
    "from flowio import FlowData"
   ]
  },
  {
   "cell_type": "code",
   "execution_count": 22,
   "metadata": {},
   "outputs": [],
   "source": [
    "fcs = FlowData(primary)"
   ]
  },
  {
   "cell_type": "code",
   "execution_count": 26,
   "metadata": {},
   "outputs": [
    {
     "data": {
      "text/plain": [
       "{'beginanalysis': '0',\n",
       " 'endanalysis': '0',\n",
       " 'beginstext': '0',\n",
       " 'endstext': '0',\n",
       " 'begindata': '4912',\n",
       " 'enddata': '76555911           ',\n",
       " 'fil': 'PD142-09R PDMC 1 N Panel_N1_013.fcs',\n",
       " 'sys': 'Windows 7 6.1',\n",
       " 'tot': '1125750            ',\n",
       " 'par': '17',\n",
       " 'mode': 'L',\n",
       " 'byteord': '4,3,2,1',\n",
       " 'datatype': 'F',\n",
       " 'nextdata': '0',\n",
       " 'creator': 'BD FACSDiva Software Version 8.0.1',\n",
       " 'tube name': 'N1',\n",
       " 'src': 'PD142-09R PDMC 1 N Panel',\n",
       " 'experiment name': 'PD142-09-P PDMC 1 N Panel 2017-09-27',\n",
       " 'guid': '587eeb0d-ee43-4a9c-92e1-7ba4996accb0',\n",
       " 'date': '28-SEP-2017',\n",
       " 'btim': '09:55:03',\n",
       " 'etim': '09:58:33',\n",
       " 'cyt': 'LSRFortessa',\n",
       " 'settings': 'Cytometer',\n",
       " 'cytnum': '1',\n",
       " 'window extension': '10.00',\n",
       " 'export user name': 'Raya',\n",
       " 'export time': '28-SEP-2017-10:25:01',\n",
       " 'op': 'Raya',\n",
       " 'fsc asf': '0.65',\n",
       " 'autobs': 'TRUE',\n",
       " 'inst': ' ',\n",
       " 'laser1name': 'Blue',\n",
       " 'laser1delay': '0.00',\n",
       " 'laser1asf': '0.70',\n",
       " 'laser2name': 'Red',\n",
       " 'laser2delay': '123.01',\n",
       " 'laser2asf': '0.74',\n",
       " 'laser3name': 'Violet',\n",
       " 'laser3delay': '43.31',\n",
       " 'laser3asf': '0.76',\n",
       " 'laser4name': '561 Yellow-Green',\n",
       " 'laser4delay': '163.13',\n",
       " 'laser4asf': '0.65',\n",
       " 'timestep': '0.01',\n",
       " 'spill': '11,Alexa Fluor 488-A,PerCP-A,Alexa Fluor 647-A,Alexa Fluor 700-A,APC-Cy7-A,Alexa Fluor 405-A,AmCyan-A,BV605-A,BV711-A,PE-A,PE-Cy7-A,1,0.03013014114565595,0,0,0,0,0.12990174508013627,0.007150555650250869,0,0,0,0,1,0.07337827502965161,0.09042585007273865,0.029674177540460346,0,0,0,0.2324201041548166,0,0.02206597460922974,0,0.006769067210239956,1,0.20869729945142607,0.04973935123022735,0,0,0.00007906141126525015,0.01411318651867641,0,0.007255402700492004,0.00048089700611521005,0.04915053185175157,0.03451728057136528,1,0.23401694713010154,0,0,0,0.07512300877882021,0,0.020233456705751277,0,0,0.10915451990774416,0.08555971743428205,1,0,0,0,0.0005951050936817174,0,0.14035503807305091,0.00048419941925344386,0,0.04374058276962414,0.012407809103155752,0.046829483290783645,1,0.19273731255184345,0.004557855583606786,0.0013226480624621455,0,0.0059054829142948795,0.013927940154102115,0,0,0,0,0.03714838776746808,1,0.0859519811912531,0.008813473081943808,0,0,0,0.03529082643249474,0.0017993021002407055,0.0003633154658951252,0,0.030099973569221748,0.009666176915007456,1,0.21400521691796728,0.09939951694796542,0.008158136720403074,0,0.20000163075665042,0.011247483374422215,0.23775186816887078,0.06990800134751776,0.04830036194645333,0.013293844985918382,0.0012551545663028543,1,0,0.004023945668766222,0.006231740144010344,0.1444717852273051,0,0,0,0,0.0018726532804055809,0.05242425950706885,0.005683746681034476,1,0.005844764504787136,0.0015678142256798145,0.037844123439497314,0.0011945094658402811,0.010848084018408229,0.12210798462759627,0,0,0.002002984295473762,0.001377018328620357,0.03960753560178348,1',\n",
       " 'apply compensation': 'TRUE',\n",
       " 'threshold': 'FSC,5000',\n",
       " 'p1n': 'FSC-A',\n",
       " 'p1r': '262144',\n",
       " 'p1b': '32',\n",
       " 'p1e': '0,0',\n",
       " 'p1v': '230',\n",
       " 'p1g': '1.0',\n",
       " 'p1display': 'LIN',\n",
       " 'p1bs': '0',\n",
       " 'p1ms': '0',\n",
       " 'p2n': 'FSC-H',\n",
       " 'p2r': '262144',\n",
       " 'p2b': '32',\n",
       " 'p2e': '0,0',\n",
       " 'p2v': '230',\n",
       " 'p2g': '1.0',\n",
       " 'p2display': 'LIN',\n",
       " 'p2bs': '0',\n",
       " 'p2ms': '0',\n",
       " 'p3n': 'SSC-A',\n",
       " 'p3r': '262144',\n",
       " 'p3b': '32',\n",
       " 'p3e': '0,0',\n",
       " 'p3v': '225',\n",
       " 'p3g': '1.0',\n",
       " 'p3display': 'LIN',\n",
       " 'p3bs': '0',\n",
       " 'p3ms': '0',\n",
       " 'p4n': 'SSC-H',\n",
       " 'p4r': '262144',\n",
       " 'p4b': '32',\n",
       " 'p4e': '0,0',\n",
       " 'p4v': '225',\n",
       " 'p4g': '1.0',\n",
       " 'p4display': 'LIN',\n",
       " 'p4bs': '0',\n",
       " 'p4ms': '0',\n",
       " 'p5n': 'SSC-W',\n",
       " 'p5r': '262144',\n",
       " 'p5b': '32',\n",
       " 'p5e': '0,0',\n",
       " 'p5v': '225',\n",
       " 'p5g': '1.0',\n",
       " 'p5bs': '-1',\n",
       " 'p5ms': '0',\n",
       " 'p6n': 'Alexa Fluor 488-A',\n",
       " 'p6s': 'CD14 FITC',\n",
       " 'p6r': '262144',\n",
       " 'p6b': '32',\n",
       " 'p6e': '0,0',\n",
       " 'p6v': '538',\n",
       " 'p6g': '1.0',\n",
       " 'p6display': 'LOG',\n",
       " 'p6bs': '412',\n",
       " 'p6ms': '0',\n",
       " 'p7n': 'PerCP-A',\n",
       " 'p7s': 'CD16 PerCP-CY5_5',\n",
       " 'p7r': '262144',\n",
       " 'p7b': '32',\n",
       " 'p7e': '0,0',\n",
       " 'p7v': '720',\n",
       " 'p7g': '1.0',\n",
       " 'p7display': 'LOG',\n",
       " 'p7bs': '262143',\n",
       " 'p7ms': '0',\n",
       " 'p8n': 'Alexa Fluor 647-A',\n",
       " 'p8s': 'Siglec8 APC',\n",
       " 'p8r': '262144',\n",
       " 'p8b': '32',\n",
       " 'p8e': '0,0',\n",
       " 'p8v': '666',\n",
       " 'p8g': '1.0',\n",
       " 'p8display': 'LOG',\n",
       " 'p8bs': '3191',\n",
       " 'p8ms': '0',\n",
       " 'p9n': 'Alexa Fluor 700-A',\n",
       " 'p9s': 'CD45',\n",
       " 'p9r': '262144',\n",
       " 'p9b': '32',\n",
       " 'p9e': '0,0',\n",
       " 'p9v': '635',\n",
       " 'p9g': '1.0',\n",
       " 'p9display': 'LOG',\n",
       " 'p9bs': '2942',\n",
       " 'p9ms': '0',\n",
       " 'p10n': 'APC-Cy7-A',\n",
       " 'p10s': 'CD3 APC Fire 750',\n",
       " 'p10r': '262144',\n",
       " 'p10b': '32',\n",
       " 'p10e': '0,0',\n",
       " 'p10v': '605',\n",
       " 'p10g': '1.0',\n",
       " 'p10display': 'LOG',\n",
       " 'p10bs': '1792',\n",
       " 'p10ms': '0',\n",
       " 'p11n': 'Alexa Fluor 405-A',\n",
       " 'p11s': 'CD1c BV421',\n",
       " 'p11r': '262144',\n",
       " 'p11b': '32',\n",
       " 'p11e': '0,0',\n",
       " 'p11v': '460',\n",
       " 'p11g': '1.0',\n",
       " 'p11display': 'LOG',\n",
       " 'p11bs': '74106',\n",
       " 'p11ms': '0',\n",
       " 'p12n': 'AmCyan-A',\n",
       " 'p12s': 'Dead V500',\n",
       " 'p12r': '262144',\n",
       " 'p12b': '32',\n",
       " 'p12e': '0,0',\n",
       " 'p12v': '505',\n",
       " 'p12g': '1.0',\n",
       " 'p12display': 'LOG',\n",
       " 'p12bs': '151056',\n",
       " 'p12ms': '0',\n",
       " 'p13n': 'BV605-A',\n",
       " 'p13s': 'CD15',\n",
       " 'p13r': '262144',\n",
       " 'p13b': '32',\n",
       " 'p13e': '0,0',\n",
       " 'p13v': '581',\n",
       " 'p13g': '1.0',\n",
       " 'p13display': 'LOG',\n",
       " 'p13bs': '1089',\n",
       " 'p13ms': '0',\n",
       " 'p14n': 'BV711-A',\n",
       " 'p14s': 'HLA-DR',\n",
       " 'p14r': '262144',\n",
       " 'p14b': '32',\n",
       " 'p14e': '0,0',\n",
       " 'p14v': '572',\n",
       " 'p14g': '1.0',\n",
       " 'p14display': 'LOG',\n",
       " 'p14bs': '18565',\n",
       " 'p14ms': '0',\n",
       " 'p15n': 'PE-A',\n",
       " 'p15s': 'CD116',\n",
       " 'p15r': '262144',\n",
       " 'p15b': '32',\n",
       " 'p15e': '0,0',\n",
       " 'p15v': '453',\n",
       " 'p15g': '1.0',\n",
       " 'p15display': 'LOG',\n",
       " 'p15bs': '1444',\n",
       " 'p15ms': '0',\n",
       " 'p16n': 'PE-Cy7-A',\n",
       " 'p16s': 'CD19',\n",
       " 'p16r': '262144',\n",
       " 'p16b': '32',\n",
       " 'p16e': '0,0',\n",
       " 'p16v': '505',\n",
       " 'p16g': '1.0',\n",
       " 'p16display': 'LOG',\n",
       " 'p16bs': '2303',\n",
       " 'p16ms': '0',\n",
       " 'p17n': 'Time',\n",
       " 'p17r': '262144',\n",
       " 'p17b': '32',\n",
       " 'p17e': '0,0',\n",
       " 'p17g': '0.01',\n",
       " 'p17bs': '0',\n",
       " 'p17ms': '0',\n",
       " 'cst setup status': 'SUCCESS',\n",
       " 'cst beads lot id': '70405',\n",
       " 'cytometer config name': 'CBS 2-Blue 3-Red 6-Violet 5-YellGrn',\n",
       " 'cytometer config create date': '2015-05-22T08:45:51+01:00',\n",
       " 'cst setup date': '2017-06-09T09:45:10+01:00',\n",
       " 'cst baseline date': '2017-02-02T13:33:42+00:00',\n",
       " 'cst beads expired': 'False',\n",
       " 'cst performance expired': '2017-06-10T09:45:10+01:00',\n",
       " 'cst regulatory status': 'RUO Performance Check'}"
      ]
     },
     "execution_count": 26,
     "metadata": {},
     "output_type": "execute_result"
    }
   ],
   "source": [
    "fcs.text"
   ]
  }
 ],
 "metadata": {
  "kernelspec": {
   "display_name": "Python 3",
   "language": "python",
   "name": "python3"
  },
  "language_info": {
   "codemirror_mode": {
    "name": "ipython",
    "version": 3
   },
   "file_extension": ".py",
   "mimetype": "text/x-python",
   "name": "python",
   "nbconvert_exporter": "python",
   "pygments_lexer": "ipython3",
   "version": "3.6.8"
  }
 },
 "nbformat": 4,
 "nbformat_minor": 4
}
