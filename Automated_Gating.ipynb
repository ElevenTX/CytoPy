{
 "cells": [
  {
   "cell_type": "markdown",
   "metadata": {},
   "source": [
    "<h1>Automated Gating with Immunova: Loading peritonitis data into database</h1>\n",
    "\n",
    "This is the first of three notebooks comparing the automated gating in immunova to expert manual gating. In this notebook I am creating the database entries.\n",
    "\n",
    "<h3>Create project and experiments</h3>"
   ]
  },
  {
   "cell_type": "code",
   "execution_count": 1,
   "metadata": {},
   "outputs": [],
   "source": [
    "from immunova.data.project import Project\n",
    "from immunova.data.mongo_setup import global_init\n",
    "from immunova.data.fcs_experiments import FCSExperiment, Panel\n",
    "from immunova.data.utilities import get_fcs_file_paths\n",
    "from immunova.flow.readwrite.read_fcs import explore_channel_mappings\n",
    "from tqdm import tqdm_notebook, tqdm\n",
    "import pandas as pd\n",
    "global_init()"
   ]
  },
  {
   "cell_type": "code",
   "execution_count": 2,
   "metadata": {},
   "outputs": [
    {
     "data": {
      "text/plain": [
       "<Project: Project object>"
      ]
     },
     "execution_count": 2,
     "metadata": {},
     "output_type": "execute_result"
    }
   ],
   "source": [
    "pd_project = Project(project_id='Peritonitis', owner='burtonrossj')\n",
    "pd_project.save()"
   ]
  },
  {
   "cell_type": "code",
   "execution_count": 3,
   "metadata": {},
   "outputs": [
    {
     "data": {
      "text/plain": [
       "'5d824215602a252ab0e7ebf4'"
      ]
     },
     "execution_count": 3,
     "metadata": {},
     "output_type": "execute_result"
    }
   ],
   "source": [
    "pd_project.id.__str__()"
   ]
  },
  {
   "cell_type": "markdown",
   "metadata": {},
   "source": [
    "I will create four experiments in total:\n",
    "* PBMC_T: T cell panel for PBMC samples\n",
    "* PBMC_M: Myeloid cell panel for PBMC samples\n",
    "* PDMC_T: T cell panel for peritoneal fluid samples\n",
    "* PDMC_M: Myeloid cell panel for peritoneal fluid samples\n",
    "\n",
    "For each of these experiments I need to associate a flow cytometry panel. A Panel object defines the channel(fluorochrome)/marker(antibody) mappings for all associated flow data. This allows for standardisation of the flow cytometry meta-data at the point of entry.\n",
    "\n",
    "Panel objects can be created from a python dictionary object or using an excel template. In this case I have created an excel template (see documentation for details on creating panel templates).\n",
    "\n",
    "It is often useful to explore the channel and marker names of a large selection of fcs files to get a feel for the naming conventions and make sure you have convered all edge cases. There is a useful utility function in `immunova.flow.readwrite.read_fcs` called `explore_channel_mappings`. Given a directory, the function will search for all `.fcs` files and return all permutations of channel/marker pairings found."
   ]
  },
  {
   "cell_type": "code",
   "execution_count": null,
   "metadata": {},
   "outputs": [],
   "source": [
    "cm_permutations = explore_channel_mappings('/media/ross/FCS_DATA/Raya PD Samples/ds_friendly')"
   ]
  },
  {
   "cell_type": "code",
   "execution_count": 6,
   "metadata": {},
   "outputs": [
    {
     "data": {
      "text/plain": [
       "20"
      ]
     },
     "execution_count": 6,
     "metadata": {},
     "output_type": "execute_result"
    }
   ],
   "source": [
    "len(cm_permutations)"
   ]
  },
  {
   "cell_type": "markdown",
   "metadata": {},
   "source": [
    "So there is 20 permutations for the different ways that markers have been labelled in fcs files. I can account for most cases using regular expression but in a few cases (e.g. live/dead staining) I have added like-for-like matches in the templates."
   ]
  },
  {
   "cell_type": "code",
   "execution_count": 4,
   "metadata": {},
   "outputs": [],
   "source": [
    "t_panel = Panel(panel_name='peritonitis_t_panel')\n",
    "m_panel = Panel(panel_name='peritonitis_m_panel')"
   ]
  },
  {
   "cell_type": "code",
   "execution_count": 5,
   "metadata": {},
   "outputs": [
    {
     "data": {
      "text/plain": [
       "True"
      ]
     },
     "execution_count": 5,
     "metadata": {},
     "output_type": "execute_result"
    }
   ],
   "source": [
    "t_panel.create_from_excel(path='experiment_data/peritonitis_t_template.xlsx')"
   ]
  },
  {
   "cell_type": "code",
   "execution_count": 6,
   "metadata": {},
   "outputs": [
    {
     "data": {
      "text/plain": [
       "True"
      ]
     },
     "execution_count": 6,
     "metadata": {},
     "output_type": "execute_result"
    }
   ],
   "source": [
    "m_panel.create_from_excel(path='experiment_data/peritonitis_m_template.xlsx')"
   ]
  },
  {
   "cell_type": "markdown",
   "metadata": {},
   "source": [
    "The `create_from_excel` method will populate the Panel object using the excel template. I can now save the panels to the database."
   ]
  },
  {
   "cell_type": "code",
   "execution_count": 7,
   "metadata": {},
   "outputs": [
    {
     "data": {
      "text/plain": [
       "<Panel: Panel object>"
      ]
     },
     "execution_count": 7,
     "metadata": {},
     "output_type": "execute_result"
    }
   ],
   "source": [
    "t_panel.save()\n",
    "m_panel.save()"
   ]
  },
  {
   "cell_type": "markdown",
   "metadata": {},
   "source": [
    "With the panels created I can now create the experiments. When you create an experiment you must always associate it to a project. We therefore use the `add_experiment` method of the Project object."
   ]
  },
  {
   "cell_type": "code",
   "execution_count": 8,
   "metadata": {},
   "outputs": [
    {
     "name": "stdout",
     "output_type": "stream",
     "text": [
      "Experiment created successfully!\n",
      "Experiment created successfully!\n",
      "Experiment created successfully!\n",
      "Experiment created successfully!\n"
     ]
    }
   ],
   "source": [
    "pbmc_t = pd_project.add_experiment(experiment_id='PBMC_T', panel_name='peritonitis_t_panel')\n",
    "pdmc_t = pd_project.add_experiment(experiment_id='PDMC_T', panel_name='peritonitis_t_panel')\n",
    "pbmc_m = pd_project.add_experiment(experiment_id='PBMC_M', panel_name='peritonitis_m_panel')\n",
    "pdmc_m = pd_project.add_experiment(experiment_id='PDMC_M', panel_name='peritonitis_m_panel')"
   ]
  },
  {
   "cell_type": "markdown",
   "metadata": {},
   "source": [
    "Now that the experiments are created I can start adding the fcs files. The `add_new_sample` method is used to generate a new fcs file entry into the mongo database, which is then associated to the experiment. See the documentation below:\n"
   ]
  },
  {
   "cell_type": "code",
   "execution_count": 9,
   "metadata": {},
   "outputs": [
    {
     "data": {
      "text/plain": [
       "\u001b[0;31mSignature:\u001b[0m\n",
       "\u001b[0mpbmc_t\u001b[0m\u001b[0;34m.\u001b[0m\u001b[0madd_new_sample\u001b[0m\u001b[0;34m(\u001b[0m\u001b[0;34m\u001b[0m\n",
       "\u001b[0;34m\u001b[0m    \u001b[0msample_id\u001b[0m\u001b[0;34m:\u001b[0m\u001b[0mstr\u001b[0m\u001b[0;34m,\u001b[0m\u001b[0;34m\u001b[0m\n",
       "\u001b[0;34m\u001b[0m    \u001b[0mfile_path\u001b[0m\u001b[0;34m:\u001b[0m\u001b[0mstr\u001b[0m\u001b[0;34m,\u001b[0m\u001b[0;34m\u001b[0m\n",
       "\u001b[0;34m\u001b[0m    \u001b[0mcontrols\u001b[0m\u001b[0;34m:\u001b[0m\u001b[0mlist\u001b[0m\u001b[0;34m,\u001b[0m\u001b[0;34m\u001b[0m\n",
       "\u001b[0;34m\u001b[0m    \u001b[0mcomp_matrix\u001b[0m\u001b[0;34m:\u001b[0m\u001b[0;34m<\u001b[0m\u001b[0mbuilt\u001b[0m\u001b[0;34m-\u001b[0m\u001b[0;32min\u001b[0m \u001b[0mfunction\u001b[0m \u001b[0marray\u001b[0m\u001b[0;34m>=\u001b[0m\u001b[0;32mNone\u001b[0m\u001b[0;34m,\u001b[0m\u001b[0;34m\u001b[0m\n",
       "\u001b[0;34m\u001b[0m    \u001b[0mcompensate\u001b[0m\u001b[0;34m:\u001b[0m\u001b[0mbool\u001b[0m\u001b[0;34m=\u001b[0m\u001b[0;32mTrue\u001b[0m\u001b[0;34m,\u001b[0m\u001b[0;34m\u001b[0m\n",
       "\u001b[0;34m\u001b[0m    \u001b[0mfeedback\u001b[0m\u001b[0;34m:\u001b[0m\u001b[0mbool\u001b[0m\u001b[0;34m=\u001b[0m\u001b[0;32mTrue\u001b[0m\u001b[0;34m,\u001b[0m\u001b[0;34m\u001b[0m\n",
       "\u001b[0;34m\u001b[0m\u001b[0;34m)\u001b[0m \u001b[0;34m->\u001b[0m \u001b[0mstr\u001b[0m\u001b[0;34m\u001b[0m\u001b[0;34m\u001b[0m\u001b[0m\n",
       "\u001b[0;31mDocstring:\u001b[0m\n",
       "Add a new sample (FileGroup) to this experiment\n",
       ":param sample_id: primary ID for identification of sample (FileGroup.primary_id)\n",
       ":param file_path: file path of the primary fcs file (e.g. the fcs file that is of primary interest such as the\n",
       "file with complete staining)\n",
       ":param controls: list of file paths for control files e.g. a list of file paths for associated FMO controls\n",
       ":param comp_matrix: (optional) numpy array for spillover matrix for compensation calculation; if not supplied\n",
       "the matrix linked within the fcs file will be used, if not present will present an error\n",
       ":param compensate: boolean value as to whether compensation should be applied before data entry (default=True)\n",
       ":param feedback: boolean value, if True function will provide feedback in the form of print statements\n",
       "(default=True)\n",
       ":return: MongoDB ObjectID string for new FileGroup entry\n",
       "\u001b[0;31mFile:\u001b[0m      ~/immunova/immunova/data/fcs_experiments.py\n",
       "\u001b[0;31mType:\u001b[0m      method\n"
      ]
     },
     "metadata": {},
     "output_type": "display_data"
    }
   ],
   "source": [
    "?pbmc_t.add_new_sample"
   ]
  },
  {
   "cell_type": "markdown",
   "metadata": {},
   "source": [
    "<h3>Add PDMC files (Myeloid cell panel)</h3>\n",
    "\n",
    "A summary table of all the samples collected in the peritonitis study can provide us with the sample numbers and the manual gating results."
   ]
  },
  {
   "cell_type": "code",
   "execution_count": 10,
   "metadata": {},
   "outputs": [],
   "source": [
    "summary = pd.read_excel('/media/ross/FCS_DATA/Raya PD Samples/ClinicalData_and_ManualGatingResults.xlsx')"
   ]
  },
  {
   "cell_type": "code",
   "execution_count": 11,
   "metadata": {},
   "outputs": [],
   "source": [
    "pdmc_sample_ids = summary[summary['Cell origin'] == 'PDMC']['Patient no.'].values"
   ]
  },
  {
   "cell_type": "code",
   "execution_count": 12,
   "metadata": {},
   "outputs": [
    {
     "data": {
      "text/plain": [
       "array(['142-09', '175-09', '209-03', '209-05', '210-12', '210-14',\n",
       "       '229-02', '237-06', '239-02', '239-04', '251-07', '251-08',\n",
       "       '254-04', '254-05', '255-04', '255-05', '262-01', '264-02',\n",
       "       '267-01', '267-02', '272-01', '273-01', '276-01', '279-03',\n",
       "       '286-02', '286-03', '286-04', '288-02', '289-01', '294-01',\n",
       "       '294-02', '294-03', '295-01', '298-01', '302-01', '305-01',\n",
       "       '305-02', '305-03', '306-01', '307-01', '308-01', '308-02R',\n",
       "       '308-03R', '308-04', '310-01', '315-01', '315-02', '316-01',\n",
       "       '318-01', '320-01', '321-01', '322-01', '323-01', '323-02',\n",
       "       '324-01', '326-01'], dtype=object)"
      ]
     },
     "execution_count": 12,
     "metadata": {},
     "output_type": "execute_result"
    }
   ],
   "source": [
    "pdmc_sample_ids"
   ]
  },
  {
   "cell_type": "markdown",
   "metadata": {},
   "source": [
    "We can use the utility functin `get_fcs_file_paths` from immunova's data module to generate file paths for adding samples."
   ]
  },
  {
   "cell_type": "code",
   "execution_count": 13,
   "metadata": {},
   "outputs": [
    {
     "data": {
      "text/plain": [
       "{'primary': ['/media/ross/FCS_DATA/Raya PD Samples/ds_friendly/PDMC/142-09/m_panel/Peri 142-09R PDMC 1 N Panel_N1_013.fcs'],\n",
       " 'controls': [{'control_id': 'CD1c',\n",
       "   'path': '/media/ross/FCS_DATA/Raya PD Samples/ds_friendly/PDMC/142-09/m_panel/Peri 142-09R PDMC 1 N Panel_N2 FMO CD1c_014.fcs'},\n",
       "  {'control_id': 'HLA-DR',\n",
       "   'path': '/media/ross/FCS_DATA/Raya PD Samples/ds_friendly/PDMC/142-09/m_panel/Peri 142-09R PDMC 1 N Panel_N3 FMO HLA-DR_015.fcs'}]}"
      ]
     },
     "execution_count": 13,
     "metadata": {},
     "output_type": "execute_result"
    }
   ],
   "source": [
    "get_fcs_file_paths(fcs_dir='/media/ross/FCS_DATA/Raya PD Samples/ds_friendly/PDMC/142-09/m_panel',\n",
    "                  control_names=['CD1c', 'HLA-DR'], ctrl_id='FMO')"
   ]
  },
  {
   "cell_type": "code",
   "execution_count": 14,
   "metadata": {},
   "outputs": [],
   "source": [
    "pdmc_m_142_09 = get_fcs_file_paths(fcs_dir='/media/ross/FCS_DATA/Raya PD Samples/ds_friendly/PDMC/142-09/m_panel',\n",
    "                  control_names=['CD1c', 'HLA-DR'], ctrl_id='FMO')\n",
    "primary = pdmc_m_142_09['primary'][0]\n",
    "controls = pdmc_m_142_09['controls']"
   ]
  },
  {
   "cell_type": "code",
   "execution_count": 15,
   "metadata": {},
   "outputs": [
    {
     "name": "stdout",
     "output_type": "stream",
     "text": [
      "Generating main file entry...\n",
      "WARNING: FSC-W,  pair not found!\n",
      "Generating file entries for controls...\n",
      "WARNING: FSC-W,  pair not found!\n",
      "WARNING: FSC-W,  pair not found!\n",
      "Successfully created pd142_09_m and associated to PDMC_M\n"
     ]
    },
    {
     "data": {
      "text/plain": [
       "'5d824225602a252ab0e7f12a'"
      ]
     },
     "execution_count": 15,
     "metadata": {},
     "output_type": "execute_result"
    }
   ],
   "source": [
    "pdmc_m.add_new_sample(sample_id='pd142_09_m', file_path=primary, controls=controls)"
   ]
  },
  {
   "cell_type": "markdown",
   "metadata": {},
   "source": [
    "Let's add the rest of the files for PDMC's."
   ]
  },
  {
   "cell_type": "code",
   "execution_count": 29,
   "metadata": {},
   "outputs": [
    {
     "name": "stdout",
     "output_type": "stream",
     "text": [
      "Generating main file entry...\n",
      "WARNING: FSC-W,  pair not found!\n",
      "WARNING: PerCP-A, CD16 pair not found!\n",
      "Generating file entries for controls...\n",
      "Successfully created pd209-03_m and associated to PDMC_M\n"
     ]
    },
    {
     "data": {
      "text/plain": [
       "'5d824693602a252ab0e7f48c'"
      ]
     },
     "execution_count": 29,
     "metadata": {},
     "output_type": "execute_result"
    }
   ],
   "source": [
    "#pd209-03 M\n",
    "# Only one file for this patient\n",
    "primary = '/media/ross/FCS_DATA/Raya PD Samples/ds_friendly/PDMC/209-03/m_panel/Peri 209-03 PDMC_A1_001.fcs'\n",
    "pdmc_m.add_new_sample(sample_id='pd209-03_m', controls=[], file_path=primary)"
   ]
  },
  {
   "cell_type": "code",
   "execution_count": 30,
   "metadata": {},
   "outputs": [],
   "source": [
    "fcs = FlowData(primary)"
   ]
  },
  {
   "cell_type": "code",
   "execution_count": 31,
   "metadata": {},
   "outputs": [
    {
     "data": {
      "text/plain": [
       "{'1': {'PnN': 'FSC-A'},\n",
       " '2': {'PnN': 'FSC-H'},\n",
       " '3': {'PnN': 'SSC-A'},\n",
       " '4': {'PnN': 'SSC-H'},\n",
       " '5': {'PnN': 'SSC-W'},\n",
       " '6': {'PnN': 'Alexa Fluor 488-A', 'PnS': 'CD14'},\n",
       " '7': {'PnN': 'Alexa Fluor 647-A', 'PnS': 'Siglec-8'},\n",
       " '8': {'PnN': 'APC-Cy7-A', 'PnS': 'CD3'},\n",
       " '9': {'PnN': 'Alexa Fluor 405-A', 'PnS': 'CD1c'},\n",
       " '10': {'PnN': 'AmCyan-A', 'PnS': 'Zombie Aqua'},\n",
       " '11': {'PnN': 'BV605-A', 'PnS': 'CD15'},\n",
       " '12': {'PnN': 'BV711-A', 'PnS': 'HLA-DR'},\n",
       " '13': {'PnN': 'PE-A', 'PnS': 'CD116'},\n",
       " '14': {'PnN': 'PE-Cy7-A', 'PnS': 'CD19'},\n",
       " '15': {'PnN': 'Alexa Fluor 700-A', 'PnS': 'CD45'},\n",
       " '16': {'PnN': 'Time'}}"
      ]
     },
     "execution_count": 31,
     "metadata": {},
     "output_type": "execute_result"
    }
   ],
   "source": [
    "fcs.channels"
   ]
  },
  {
   "cell_type": "markdown",
   "metadata": {},
   "source": [
    "pd209-03 for M panel is missing CD16"
   ]
  },
  {
   "cell_type": "code",
   "execution_count": 33,
   "metadata": {},
   "outputs": [
    {
     "name": "stdout",
     "output_type": "stream",
     "text": [
      "Generating main file entry...\n",
      "WARNING: FSC-W,  pair not found!\n",
      "Generating file entries for controls...\n",
      "Successfully created pd209-05_m and associated to PDMC_M\n"
     ]
    },
    {
     "data": {
      "text/plain": [
       "'5d824920602a252ab0e7f49f'"
      ]
     },
     "execution_count": 33,
     "metadata": {},
     "output_type": "execute_result"
    }
   ],
   "source": [
    "# pd209-05 M\n",
    "# Only one file for this patient\n",
    "primary = '/media/ross/FCS_DATA/Raya PD Samples/ds_friendly/PDMC/209-05/m_panel/Stable 209-05 PDMC N1 FSC 350_013.fcs'\n",
    "pdmc_m.add_new_sample(sample_id='pd209-05_m', controls=[], file_path=primary)"
   ]
  },
  {
   "cell_type": "code",
   "execution_count": 38,
   "metadata": {},
   "outputs": [],
   "source": [
    "# Add some convenience variables/partialised func\n",
    "from functools import partial\n",
    "root = '/media/ross/FCS_DATA/Raya PD Samples/ds_friendly/PDMC'\n",
    "get_fp = partial(get_fcs_file_paths, control_names=['CD1c', 'HLA-DR'], ctrl_id='FMO')"
   ]
  },
  {
   "cell_type": "code",
   "execution_count": 40,
   "metadata": {},
   "outputs": [
    {
     "name": "stdout",
     "output_type": "stream",
     "text": [
      "Warning: not file found for CD1c control\n",
      "Warning: not file found for HLA-DR control\n",
      "Warning! Multiple non-control (primary) files found in directory. Check before proceeding.\n"
     ]
    }
   ],
   "source": [
    "# pd210-14 M\n",
    "file_paths = get_fp(f'{root}/210-14/m_panel')"
   ]
  },
  {
   "cell_type": "code",
   "execution_count": 41,
   "metadata": {},
   "outputs": [
    {
     "data": {
      "text/plain": [
       "{'primary': ['/media/ross/FCS_DATA/Raya PD Samples/ds_friendly/PDMC/210-14/m_panel/Peri 210-14 PDMC N1_019.fcs',\n",
       "  '/media/ross/FCS_DATA/Raya PD Samples/ds_friendly/PDMC/210-14/m_panel/Peri 210-14 PDMC N2_020.fcs',\n",
       "  '/media/ross/FCS_DATA/Raya PD Samples/ds_friendly/PDMC/210-14/m_panel/Peri 210-14 PDMC N3_021.fcs'],\n",
       " 'controls': []}"
      ]
     },
     "execution_count": 41,
     "metadata": {},
     "output_type": "execute_result"
    }
   ],
   "source": [
    "file_paths"
   ]
  },
  {
   "cell_type": "markdown",
   "metadata": {},
   "source": [
    "File names missing name of the FMO and therefore not captured by my function. I know that N2 is the FMO for CD1c and N3 is the FMO for HLA-DR"
   ]
  },
  {
   "cell_type": "code",
   "execution_count": 45,
   "metadata": {},
   "outputs": [],
   "source": [
    "primary = file_paths['primary'][0]\n",
    "controls = [dict(control_id='CD1c', path=file_paths['primary'][1]),\n",
    "           dict(control_id='HLA-DR', path=file_paths['primary'][2])]"
   ]
  },
  {
   "cell_type": "code",
   "execution_count": 46,
   "metadata": {},
   "outputs": [
    {
     "name": "stdout",
     "output_type": "stream",
     "text": [
      "Generating main file entry...\n",
      "WARNING: FSC-W,  pair not found!\n",
      "Generating file entries for controls...\n",
      "WARNING: FSC-W,  pair not found!\n",
      "WARNING: FSC-W,  pair not found!\n",
      "Successfully created pd210-14_m and associated to PDMC_M\n"
     ]
    },
    {
     "data": {
      "text/plain": [
       "'5d824e60602a252ab0e7fa29'"
      ]
     },
     "execution_count": 46,
     "metadata": {},
     "output_type": "execute_result"
    }
   ],
   "source": [
    "pdmc_m.add_new_sample(sample_id='pd210-14_m', controls=controls, file_path=primary)"
   ]
  },
  {
   "cell_type": "code",
   "execution_count": 47,
   "metadata": {},
   "outputs": [
    {
     "name": "stdout",
     "output_type": "stream",
     "text": [
      "Warning: not file found for CD1c control\n",
      "Warning: not file found for HLA-DR control\n",
      "Warning! Multiple non-control (primary) files found in directory. Check before proceeding.\n"
     ]
    }
   ],
   "source": [
    "# pd237-06 M\n",
    "file_paths = get_fp(f'{root}/237-06/m_panel')"
   ]
  },
  {
   "cell_type": "code",
   "execution_count": 48,
   "metadata": {},
   "outputs": [
    {
     "data": {
      "text/plain": [
       "{'primary': ['/media/ross/FCS_DATA/Raya PD Samples/ds_friendly/PDMC/237-06/m_panel/Peri 237-06 PDMC N1_001.fcs',\n",
       "  '/media/ross/FCS_DATA/Raya PD Samples/ds_friendly/PDMC/237-06/m_panel/Peri 237-06 PDMC N2_002.fcs',\n",
       "  '/media/ross/FCS_DATA/Raya PD Samples/ds_friendly/PDMC/237-06/m_panel/Peri 237-06 PDMC N3_003.fcs'],\n",
       " 'controls': []}"
      ]
     },
     "execution_count": 48,
     "metadata": {},
     "output_type": "execute_result"
    }
   ],
   "source": [
    "file_paths"
   ]
  },
  {
   "cell_type": "code",
   "execution_count": 49,
   "metadata": {},
   "outputs": [],
   "source": [
    "primary = file_paths['primary'][0]\n",
    "controls = [dict(control_id='CD1c', path=file_paths['primary'][1]),\n",
    "           dict(control_id='HLA-DR', path=file_paths['primary'][2])]"
   ]
  },
  {
   "cell_type": "code",
   "execution_count": 50,
   "metadata": {},
   "outputs": [
    {
     "name": "stdout",
     "output_type": "stream",
     "text": [
      "Generating main file entry...\n",
      "Generating file entries for controls...\n",
      "Successfully created pd237-06_m and associated to PDMC_M\n"
     ]
    },
    {
     "data": {
      "text/plain": [
       "'5d824f5e602a252ab0e80183'"
      ]
     },
     "execution_count": 50,
     "metadata": {},
     "output_type": "execute_result"
    }
   ],
   "source": [
    "pdmc_m.add_new_sample(sample_id='pd237-06_m', controls=controls, file_path=primary)"
   ]
  },
  {
   "cell_type": "code",
   "execution_count": 51,
   "metadata": {},
   "outputs": [
    {
     "name": "stdout",
     "output_type": "stream",
     "text": [
      "Warning: not file found for CD1c control\n",
      "Warning: not file found for HLA-DR control\n",
      "Warning! Multiple non-control (primary) files found in directory. Check before proceeding.\n"
     ]
    }
   ],
   "source": [
    "# pd239-02 M\n",
    "file_paths = get_fp(f'{root}/239-02/m_panel')"
   ]
  },
  {
   "cell_type": "code",
   "execution_count": 52,
   "metadata": {},
   "outputs": [
    {
     "data": {
      "text/plain": [
       "{'primary': ['/media/ross/FCS_DATA/Raya PD Samples/ds_friendly/PDMC/239-02/m_panel/239-02 Stable PDMC Neat N1_014.fcs',\n",
       "  '/media/ross/FCS_DATA/Raya PD Samples/ds_friendly/PDMC/239-02/m_panel/239-02 Stable PDMC Neat N2_015.fcs',\n",
       "  '/media/ross/FCS_DATA/Raya PD Samples/ds_friendly/PDMC/239-02/m_panel/239-02 Stable PDMC Neat N3_016.fcs'],\n",
       " 'controls': []}"
      ]
     },
     "execution_count": 52,
     "metadata": {},
     "output_type": "execute_result"
    }
   ],
   "source": [
    "file_paths"
   ]
  },
  {
   "cell_type": "code",
   "execution_count": 53,
   "metadata": {},
   "outputs": [],
   "source": [
    "primary = file_paths['primary'][0]\n",
    "controls = [dict(control_id='CD1c', path=file_paths['primary'][1]),\n",
    "           dict(control_id='HLA-DR', path=file_paths['primary'][2])]"
   ]
  },
  {
   "cell_type": "code",
   "execution_count": 54,
   "metadata": {},
   "outputs": [
    {
     "name": "stdout",
     "output_type": "stream",
     "text": [
      "Generating main file entry...\n",
      "Generating file entries for controls...\n",
      "Successfully created pd239-02_m and associated to PDMC_M\n"
     ]
    },
    {
     "data": {
      "text/plain": [
       "'5d8250b9602a252ab0e8080f'"
      ]
     },
     "execution_count": 54,
     "metadata": {},
     "output_type": "execute_result"
    }
   ],
   "source": [
    "pdmc_m.add_new_sample(sample_id='pd239-02_m', controls=controls, file_path=primary)"
   ]
  },
  {
   "cell_type": "code",
   "execution_count": 55,
   "metadata": {},
   "outputs": [
    {
     "name": "stdout",
     "output_type": "stream",
     "text": [
      "Warning: not file found for CD1c control\n",
      "Warning: not file found for HLA-DR control\n"
     ]
    }
   ],
   "source": [
    "# pd239-03\n",
    "file_paths = get_fp(f'{root}/239-04/m_panel')"
   ]
  },
  {
   "cell_type": "markdown",
   "metadata": {},
   "source": [
    "I now know the general errors that arrise now so I can loop over the remaining files and catch errors where necessary."
   ]
  },
  {
   "cell_type": "code",
   "execution_count": 65,
   "metadata": {},
   "outputs": [
    {
     "data": {
      "text/plain": [
       "['142-09', '209-03', '209-05', '210-14', '237-06', '239-02']"
      ]
     },
     "execution_count": 65,
     "metadata": {},
     "output_type": "execute_result"
    }
   ],
   "source": [
    "from immunova.data.fcs import FileGroup\n",
    "processed_so_far = FileGroup.objects()\n",
    "processed_so_far = [f.primary_id.replace('_m', '').replace('pd', '') for f in processed_so_far]\n",
    "processed_so_far"
   ]
  },
  {
   "cell_type": "code",
   "execution_count": 66,
   "metadata": {},
   "outputs": [],
   "source": [
    "remaining = [p for p in pdmc_sample_ids if p not in processed_so_far]"
   ]
  },
  {
   "cell_type": "code",
   "execution_count": 74,
   "metadata": {},
   "outputs": [
    {
     "data": {
      "application/vnd.jupyter.widget-view+json": {
       "model_id": "49a7a5ca7bf74c88882d2532237bc2e0",
       "version_major": 2,
       "version_minor": 0
      },
      "text/plain": [
       "HBox(children=(IntProgress(value=0, max=50), HTML(value='')))"
      ]
     },
     "metadata": {},
     "output_type": "display_data"
    },
    {
     "name": "stdout",
     "output_type": "stream",
     "text": [
      "Warning: not file found for CD1c control\n",
      "Warning: not file found for HLA-DR control\n",
      "Warning: multiple files found for CD1c control\n",
      "Warning: multiple files found for HLA-DR control\n",
      "Warning! Multiple non-control (primary) files found in directory. Check before proceeding.\n",
      "Warning: not file found for CD1c control\n",
      "Warning: not file found for HLA-DR control\n",
      "Warning: not file found for CD1c control\n",
      "Warning: not file found for HLA-DR control\n",
      "Single file found for 239-04\n",
      "Error: a file group with id pd239-04_m already exists\n",
      "Warning: not file found for CD1c control\n",
      "Warning: not file found for HLA-DR control\n",
      "Warning! Multiple non-control (primary) files found in directory. Check before proceeding.\n",
      "Error: a file group with id pd251-07_m already exists\n",
      "Warning: not file found for CD1c control\n",
      "Warning: not file found for HLA-DR control\n",
      "Warning! Multiple non-control (primary) files found in directory. Check before proceeding.\n",
      "Error: a file group with id pd251-08_m already exists\n",
      "Warning: not file found for CD1c control\n",
      "Warning: not file found for HLA-DR control\n",
      "Single file found for 254-04\n",
      "Error: a file group with id pd254-04_m already exists\n",
      "Warning: not file found for CD1c control\n",
      "Warning: not file found for HLA-DR control\n",
      "Single file found for 254-05\n",
      "Error: a file group with id pd254-05_m already exists\n",
      "Warning: not file found for CD1c control\n",
      "Warning: not file found for HLA-DR control\n",
      "Single file found for 255-04\n",
      "Error: a file group with id pd255-04_m already exists\n",
      "Warning: not file found for CD1c control\n",
      "Warning: not file found for HLA-DR control\n",
      "Single file found for 255-05\n",
      "Error: a file group with id pd255-05_m already exists\n",
      "Warning: not file found for CD1c control\n",
      "Warning: not file found for HLA-DR control\n",
      "Warning: not file found for CD1c control\n",
      "Warning: not file found for HLA-DR control\n",
      "Warning! Multiple non-control (primary) files found in directory. Check before proceeding.\n",
      "Error: a file group with id pd264-02_m already exists\n",
      "Warning: not file found for CD1c control\n",
      "Warning: not file found for HLA-DR control\n",
      "Single file found for 267-01\n",
      "Error: a file group with id pd267-01_m already exists\n",
      "Warning: not file found for CD1c control\n",
      "Warning: not file found for HLA-DR control\n",
      "Warning! Multiple non-control (primary) files found in directory. Check before proceeding.\n",
      "Error: a file group with id pd267-02_m already exists\n",
      "Warning: not file found for CD1c control\n",
      "Warning: not file found for HLA-DR control\n",
      "Single file found for 272-01\n",
      "Error: a file group with id pd272-01_m already exists\n",
      "Warning: not file found for CD1c control\n",
      "Warning: not file found for HLA-DR control\n",
      "Warning! Multiple non-control (primary) files found in directory. Check before proceeding.\n",
      "Error: a file group with id pd273-01_m already exists\n",
      "Warning: not file found for CD1c control\n",
      "Warning: not file found for HLA-DR control\n",
      "Warning! Multiple non-control (primary) files found in directory. Check before proceeding.\n",
      "Error: a file group with id pd276-01_m already exists\n",
      "Warning: not file found for CD1c control\n",
      "Warning: not file found for HLA-DR control\n",
      "Warning! Multiple non-control (primary) files found in directory. Check before proceeding.\n",
      "Error: a file group with id pd286-02_m already exists\n",
      "Warning: not file found for CD1c control\n",
      "Warning: not file found for HLA-DR control\n",
      "Warning! Multiple non-control (primary) files found in directory. Check before proceeding.\n",
      "Error: a file group with id pd286-03_m already exists\n",
      "Warning: not file found for CD1c control\n",
      "Warning: not file found for HLA-DR control\n",
      "Single file found for 286-04\n",
      "Error: a file group with id pd286-04_m already exists\n",
      "Warning: not file found for CD1c control\n",
      "Warning: not file found for HLA-DR control\n",
      "Warning! Multiple non-control (primary) files found in directory. Check before proceeding.\n",
      "Error: a file group with id pd288-02_m already exists\n",
      "Warning: not file found for CD1c control\n",
      "Warning: not file found for HLA-DR control\n",
      "Warning: not file found for CD1c control\n",
      "Warning: not file found for HLA-DR control\n",
      "Warning: not file found for CD1c control\n",
      "Warning: not file found for HLA-DR control\n",
      "Single file found for 294-03\n",
      "Error: a file group with id pd294-03_m already exists\n",
      "Warning: not file found for CD1c control\n",
      "Warning: not file found for HLA-DR control\n",
      "Warning! Multiple non-control (primary) files found in directory. Check before proceeding.\n",
      "Error: a file group with id pd302-01_m already exists\n",
      "Warning: not file found for CD1c control\n",
      "Warning: not file found for HLA-DR control\n",
      "Warning! Multiple non-control (primary) files found in directory. Check before proceeding.\n",
      "Error: a file group with id pd305-01_m already exists\n",
      "Warning: not file found for CD1c control\n",
      "Warning: not file found for HLA-DR control\n",
      "Warning! Multiple non-control (primary) files found in directory. Check before proceeding.\n",
      "Error: a file group with id pd305-02_m already exists\n",
      "Warning: not file found for CD1c control\n",
      "Warning: not file found for HLA-DR control\n",
      "Single file found for 305-03\n",
      "Error: a file group with id pd305-03_m already exists\n",
      "Warning: not file found for CD1c control\n",
      "Warning: not file found for HLA-DR control\n",
      "Warning! Multiple non-control (primary) files found in directory. Check before proceeding.\n",
      "Error: a file group with id pd306-01_m already exists\n",
      "Warning: not file found for CD1c control\n",
      "Warning: not file found for HLA-DR control\n",
      "Single file found for 307-01\n",
      "Error: a file group with id pd307-01_m already exists\n",
      "Warning: not file found for CD1c control\n",
      "Warning: not file found for HLA-DR control\n",
      "Single file found for 308-01\n",
      "Error: a file group with id pd308-01_m already exists\n",
      "Warning: not file found for CD1c control\n",
      "Warning: not file found for HLA-DR control\n",
      "Warning! Multiple non-control (primary) files found in directory. Check before proceeding.\n",
      "Error: a file group with id pd308-02R_m already exists\n",
      "Warning: not file found for CD1c control\n",
      "Warning: not file found for HLA-DR control\n",
      "Warning! Multiple non-control (primary) files found in directory. Check before proceeding.\n",
      "Error: a file group with id pd308-03R_m already exists\n",
      "Warning: not file found for CD1c control\n",
      "Warning: not file found for HLA-DR control\n",
      "Warning: not file found for CD1c control\n",
      "Warning: not file found for HLA-DR control\n",
      "Warning! Multiple non-control (primary) files found in directory. Check before proceeding.\n",
      "Error: a file group with id pd310-01_m already exists\n",
      "Warning: not file found for CD1c control\n",
      "Warning: not file found for HLA-DR control\n",
      "Warning! Multiple non-control (primary) files found in directory. Check before proceeding.\n",
      "Error: a file group with id pd315-01_m already exists\n",
      "Warning: not file found for CD1c control\n",
      "Warning: not file found for HLA-DR control\n",
      "Warning! Multiple non-control (primary) files found in directory. Check before proceeding.\n",
      "Error: a file group with id pd315-02_m already exists\n",
      "Warning: not file found for CD1c control\n",
      "Warning: not file found for HLA-DR control\n",
      "Warning! Multiple non-control (primary) files found in directory. Check before proceeding.\n",
      "Error: a file group with id pd316-01_m already exists\n",
      "Warning: not file found for CD1c control\n",
      "Warning: not file found for HLA-DR control\n",
      "Single file found for 318-01\n",
      "Error: a file group with id pd318-01_m already exists\n",
      "Warning: not file found for CD1c control\n",
      "Warning: not file found for HLA-DR control\n",
      "Warning: not file found for CD1c control\n",
      "Warning: not file found for HLA-DR control\n",
      "Warning: not file found for CD1c control\n",
      "Warning: not file found for HLA-DR control\n",
      "Warning: not file found for CD1c control\n",
      "Warning: not file found for HLA-DR control\n",
      "Warning! Multiple non-control (primary) files found in directory. Check before proceeding.\n",
      "Error: a file group with id pd323-01_m already exists\n",
      "Warning: not file found for CD1c control\n",
      "Warning: not file found for HLA-DR control\n",
      "Warning: not file found for CD1c control\n",
      "Warning: not file found for HLA-DR control\n",
      "Warning: not file found for CD1c control\n",
      "Warning: not file found for HLA-DR control\n",
      "\n"
     ]
    }
   ],
   "source": [
    "# Add some convenience variables/partialised func\n",
    "root = '/media/ross/FCS_DATA/Raya PD Samples/ds_friendly/PDMC'\n",
    "get_fp = partial(get_fcs_file_paths, control_names=['CD1c', 'HLA-DR'], ctrl_id='FMO')\n",
    "no_files = []\n",
    "errors = []\n",
    "\n",
    "for pt_id in tqdm_notebook(remaining):\n",
    "    file_paths = get_fp(f'{root}/{pt_id}/m_panel')\n",
    "    if not file_paths['controls']:\n",
    "        if not file_paths['primary']:\n",
    "            no_files.append(pt_id)\n",
    "            continue\n",
    "        if len(file_paths['primary']) == 1:\n",
    "            print(f'Single file found for {pt_id}')\n",
    "            primary = file_paths['primary'][0]\n",
    "            controls = []\n",
    "            pdmc_m.add_new_sample(sample_id=f'pd{pt_id}_m', \n",
    "                                  controls=controls, \n",
    "                                  file_path=primary)\n",
    "        else:\n",
    "            primary = []\n",
    "            controls = []\n",
    "            for f in file_paths['primary']:\n",
    "                if f.find('N2') != -1:\n",
    "                    controls.append(dict(control_id='CD1c', path=f))\n",
    "                if f.find('N3') != -1:\n",
    "                    controls.append(dict(control_id='HLA-DR', path=f))\n",
    "                if f.find('N1') != -1:\n",
    "                    primary.append(f)\n",
    "            if len(primary) > 1:\n",
    "                errors.append(pt_id)\n",
    "                continue\n",
    "            if len(controls) > 2:\n",
    "                errors.append(pt_id)\n",
    "                continue\n",
    "            primary = primary[0]\n",
    "            pdmc_m.add_new_sample(sample_id=f'pd{pt_id}_m', \n",
    "                      controls=controls, \n",
    "                      file_path=primary)\n",
    "    else:\n",
    "        if not file_paths['primary']:\n",
    "            errors.append(pt_id)\n",
    "            continue\n",
    "        if len(file_paths['primary'])>1:\n",
    "            errors.append(pt_id)\n",
    "            continue\n",
    "        if len(file_paths['controls'])>3:\n",
    "            errors.append(pt_id)\n",
    "            continue\n",
    "        if len(file_paths['primary']) == 1 and len(file_paths['controls']) == 3:\n",
    "            primary = file_paths['primary'][0]\n",
    "            controls = file_paths['controls']\n",
    "            pdmc_m.add_new_sample(sample_id=f'pd{pt_id}_m', \n",
    "                                  controls=controls, \n",
    "                                  file_path=primary)"
   ]
  },
  {
   "cell_type": "code",
   "execution_count": 75,
   "metadata": {},
   "outputs": [
    {
     "data": {
      "text/plain": [
       "['175-09',\n",
       " '229-02',\n",
       " '262-01',\n",
       " '289-01',\n",
       " '294-01',\n",
       " '308-04',\n",
       " '320-01',\n",
       " '321-01',\n",
       " '322-01',\n",
       " '323-02',\n",
       " '324-01',\n",
       " '326-01']"
      ]
     },
     "execution_count": 75,
     "metadata": {},
     "output_type": "execute_result"
    }
   ],
   "source": [
    "no_files"
   ]
  },
  {
   "cell_type": "markdown",
   "metadata": {},
   "source": [
    "<h3>Add PDMC files (T cell panel)</h3>"
   ]
  },
  {
   "cell_type": "code",
   "execution_count": 77,
   "metadata": {},
   "outputs": [],
   "source": [
    "root = '/media/ross/FCS_DATA/Raya PD Samples/ds_friendly/PDMC'\n",
    "get_fp = partial(get_fcs_file_paths, control_names=['CXCR3', 'CD25', 'CD45RA',\n",
    "                                                   'CCR7'], ctrl_id='FMO')"
   ]
  },
  {
   "cell_type": "code",
   "execution_count": 79,
   "metadata": {},
   "outputs": [
    {
     "data": {
      "application/vnd.jupyter.widget-view+json": {
       "model_id": "f70ed692a9084069ab08b0a2a575c7dd",
       "version_major": 2,
       "version_minor": 0
      },
      "text/plain": [
       "HBox(children=(IntProgress(value=0, max=56), HTML(value='')))"
      ]
     },
     "metadata": {},
     "output_type": "display_data"
    },
    {
     "name": "stdout",
     "output_type": "stream",
     "text": [
      "Warning: multiple files found for CCR7 control\n",
      "Warning! Multiple non-control (primary) files found in directory. Check before proceeding.\n",
      "Warning: not file found for CXCR3 control\n",
      "Warning: not file found for CD25 control\n",
      "Warning: not file found for CD45RA control\n",
      "Warning: not file found for CCR7 control\n",
      "Single file found for 175-09\n",
      "Generating main file entry...\n",
      "Unable to normalise CD45RA PE Dazz; matched multiple channels in linked panel, check panel for incorrect definitions. Matches found: ['CD45RA', 'CD4']\n",
      "Error: invalid channel/marker mappings for pd175-09_t, at path /media/ross/FCS_DATA/Raya PD Samples/ds_friendly/PDMC/175-09/t_panel/175-09 Stable PDMC T1_014.fcs, aborting.\n",
      "Warning: multiple files found for CXCR3 control\n",
      "Warning: not file found for CD25 control\n",
      "Warning: multiple files found for CD45RA control\n",
      "Warning: multiple files found for CCR7 control\n",
      "Warning! Multiple non-control (primary) files found in directory. Check before proceeding.\n",
      "Warning: not file found for CXCR3 control\n",
      "Warning: not file found for CD25 control\n",
      "Warning: not file found for CD45RA control\n",
      "Warning: not file found for CCR7 control\n",
      "Single file found for 209-05\n",
      "Generating main file entry...\n",
      "Unable to normalise CD45RA PE Dazz; matched multiple channels in linked panel, check panel for incorrect definitions. Matches found: ['CD45RA', 'CD4']\n",
      "Error: invalid channel/marker mappings for pd209-05_t, at path /media/ross/FCS_DATA/Raya PD Samples/ds_friendly/PDMC/209-05/t_panel/PD210-12-P PDMC 2 T Cells_T1 209-05stable Tpanel PDMC_019.fcs, aborting.\n",
      "Warning: not file found for CXCR3 control\n",
      "Warning: not file found for CD25 control\n",
      "Warning: not file found for CD45RA control\n",
      "Warning: not file found for CCR7 control\n",
      "Warning! Multiple non-control (primary) files found in directory. Check before proceeding.\n",
      "Warning: not file found for CXCR3 control\n",
      "Warning: not file found for CD25 control\n",
      "Warning: not file found for CD45RA control\n",
      "Warning: not file found for CCR7 control\n",
      "Warning! Multiple non-control (primary) files found in directory. Check before proceeding.\n",
      "Warning: not file found for CXCR3 control\n",
      "Warning: not file found for CD25 control\n",
      "Warning: not file found for CD45RA control\n",
      "Warning: not file found for CCR7 control\n",
      "Warning: not file found for CXCR3 control\n",
      "Warning: not file found for CD25 control\n",
      "Warning: not file found for CD45RA control\n",
      "Warning: not file found for CCR7 control\n",
      "Warning! Multiple non-control (primary) files found in directory. Check before proceeding.\n",
      "Warning: not file found for CXCR3 control\n",
      "Warning: not file found for CD25 control\n",
      "Warning: not file found for CD45RA control\n",
      "Warning: not file found for CCR7 control\n",
      "Single file found for 239-02\n",
      "Generating main file entry...\n",
      "Unable to normalise CD45RA PE Dazz; matched multiple channels in linked panel, check panel for incorrect definitions. Matches found: ['CD45RA', 'CD4']\n",
      "Error: invalid channel/marker mappings for pd239-02_t, at path /media/ross/FCS_DATA/Raya PD Samples/ds_friendly/PDMC/239-02/t_panel/239-02 Stable PDMC T1_020.fcs, aborting.\n",
      "Warning: not file found for CXCR3 control\n",
      "Warning: not file found for CD25 control\n",
      "Warning: not file found for CD45RA control\n",
      "Warning: not file found for CCR7 control\n",
      "Single file found for 239-04\n",
      "Generating main file entry...\n",
      "Unable to normalise CD45RA PE Dazz; matched multiple channels in linked panel, check panel for incorrect definitions. Matches found: ['CD45RA', 'CD4']\n",
      "Error: invalid channel/marker mappings for pd239-04_t, at path /media/ross/FCS_DATA/Raya PD Samples/ds_friendly/PDMC/239-04/t_panel/239-04 Stable PDMC T1_014.fcs, aborting.\n",
      "Warning: not file found for CD25 control\n",
      "Warning: not file found for CD25 control\n",
      "Warning: not file found for CXCR3 control\n",
      "Warning: not file found for CD25 control\n",
      "Warning: not file found for CD45RA control\n",
      "Warning: not file found for CCR7 control\n",
      "Single file found for 254-04\n",
      "Generating main file entry...\n",
      "Unable to normalise CD45RA PE Dazz; matched multiple channels in linked panel, check panel for incorrect definitions. Matches found: ['CD45RA', 'CD4']\n",
      "Error: invalid channel/marker mappings for pd254-04_t, at path /media/ross/FCS_DATA/Raya PD Samples/ds_friendly/PDMC/254-04/t_panel/254-04 Stable PDMC T1_014.fcs, aborting.\n",
      "Warning: not file found for CXCR3 control\n",
      "Warning: not file found for CD25 control\n",
      "Warning: not file found for CD45RA control\n",
      "Warning: not file found for CCR7 control\n",
      "Warning! Multiple non-control (primary) files found in directory. Check before proceeding.\n",
      "Warning: not file found for CXCR3 control\n",
      "Warning: not file found for CD25 control\n",
      "Warning: not file found for CD45RA control\n",
      "Warning: not file found for CCR7 control\n",
      "Single file found for 255-04\n",
      "Generating main file entry...\n",
      "Unable to normalise CD45RA PE Dazz; matched multiple channels in linked panel, check panel for incorrect definitions. Matches found: ['CD45RA', 'CD4']\n",
      "Error: invalid channel/marker mappings for pd255-04_t, at path /media/ross/FCS_DATA/Raya PD Samples/ds_friendly/PDMC/255-04/t_panel/255-04 Stable PDMC T1_025.fcs, aborting.\n",
      "Warning: not file found for CXCR3 control\n",
      "Warning: not file found for CD25 control\n",
      "Warning: not file found for CD45RA control\n",
      "Warning: not file found for CCR7 control\n",
      "Single file found for 255-05\n",
      "Generating main file entry...\n",
      "Unable to normalise CD45RA PE Dazz; matched multiple channels in linked panel, check panel for incorrect definitions. Matches found: ['CD45RA', 'CD4']\n",
      "Error: invalid channel/marker mappings for pd255-05_t, at path /media/ross/FCS_DATA/Raya PD Samples/ds_friendly/PDMC/255-05/t_panel/255-05 Stable PDMC T1_014.fcs, aborting.\n",
      "Warning: not file found for CXCR3 control\n",
      "Warning: not file found for CD25 control\n",
      "Warning: not file found for CD45RA control\n",
      "Warning: not file found for CCR7 control\n",
      "Warning: not file found for CXCR3 control\n",
      "Warning: not file found for CD25 control\n",
      "Warning: not file found for CD45RA control\n",
      "Warning: not file found for CCR7 control\n",
      "Warning! Multiple non-control (primary) files found in directory. Check before proceeding.\n",
      "Warning: not file found for CXCR3 control\n",
      "Warning: not file found for CD25 control\n",
      "Warning: not file found for CD45RA control\n",
      "Warning: not file found for CCR7 control\n",
      "Single file found for 267-01\n",
      "Generating main file entry...\n",
      "Generating file entries for controls...\n",
      "Successfully created pd267-01_t and associated to PDMC_T\n",
      "Warning: not file found for CXCR3 control\n",
      "Warning: not file found for CD25 control\n",
      "Warning: not file found for CD45RA control\n",
      "Warning: not file found for CCR7 control\n",
      "Warning! Multiple non-control (primary) files found in directory. Check before proceeding.\n",
      "Warning: not file found for CXCR3 control\n",
      "Warning: not file found for CD25 control\n",
      "Warning: not file found for CD45RA control\n",
      "Warning: not file found for CCR7 control\n",
      "Single file found for 272-01\n",
      "Generating main file entry...\n"
     ]
    },
    {
     "ename": "KeyboardInterrupt",
     "evalue": "",
     "output_type": "error",
     "traceback": [
      "\u001b[0;31m---------------------------------------------------------------------------\u001b[0m",
      "\u001b[0;31mKeyboardInterrupt\u001b[0m                         Traceback (most recent call last)",
      "\u001b[0;32m<ipython-input-79-2f3a0c75cc15>\u001b[0m in \u001b[0;36m<module>\u001b[0;34m\u001b[0m\n\u001b[1;32m     15\u001b[0m             pdmc_t.add_new_sample(sample_id=f'pd{pt_id}_t', \n\u001b[1;32m     16\u001b[0m                                   \u001b[0mcontrols\u001b[0m\u001b[0;34m=\u001b[0m\u001b[0mcontrols\u001b[0m\u001b[0;34m,\u001b[0m\u001b[0;34m\u001b[0m\u001b[0;34m\u001b[0m\u001b[0m\n\u001b[0;32m---> 17\u001b[0;31m                                   file_path=primary)\n\u001b[0m\u001b[1;32m     18\u001b[0m         \u001b[0;32melse\u001b[0m\u001b[0;34m:\u001b[0m\u001b[0;34m\u001b[0m\u001b[0;34m\u001b[0m\u001b[0m\n\u001b[1;32m     19\u001b[0m             \u001b[0mprimary\u001b[0m \u001b[0;34m=\u001b[0m \u001b[0;34m[\u001b[0m\u001b[0;34m]\u001b[0m\u001b[0;34m\u001b[0m\u001b[0;34m\u001b[0m\u001b[0m\n",
      "\u001b[0;32m~/immunova/immunova/data/fcs_experiments.py\u001b[0m in \u001b[0;36madd_new_sample\u001b[0;34m(self, sample_id, file_path, controls, comp_matrix, compensate, feedback)\u001b[0m\n\u001b[1;32m    428\u001b[0m         \u001b[0mfile_collection\u001b[0m \u001b[0;34m=\u001b[0m \u001b[0mFileGroup\u001b[0m\u001b[0;34m(\u001b[0m\u001b[0;34m)\u001b[0m\u001b[0;34m\u001b[0m\u001b[0;34m\u001b[0m\u001b[0m\n\u001b[1;32m    429\u001b[0m         \u001b[0mfile_collection\u001b[0m\u001b[0;34m.\u001b[0m\u001b[0mprimary_id\u001b[0m \u001b[0;34m=\u001b[0m \u001b[0msample_id\u001b[0m\u001b[0;34m\u001b[0m\u001b[0;34m\u001b[0m\u001b[0m\n\u001b[0;32m--> 430\u001b[0;31m         \u001b[0mprimary_file\u001b[0m \u001b[0;34m=\u001b[0m \u001b[0mcreate_file_entry\u001b[0m\u001b[0;34m(\u001b[0m\u001b[0mfile_path\u001b[0m\u001b[0;34m,\u001b[0m \u001b[0msample_id\u001b[0m\u001b[0;34m)\u001b[0m\u001b[0;34m\u001b[0m\u001b[0;34m\u001b[0m\u001b[0m\n\u001b[0m\u001b[1;32m    431\u001b[0m         \u001b[0;32mif\u001b[0m \u001b[0;32mnot\u001b[0m \u001b[0mprimary_file\u001b[0m\u001b[0;34m:\u001b[0m\u001b[0;34m\u001b[0m\u001b[0;34m\u001b[0m\u001b[0m\n\u001b[1;32m    432\u001b[0m             \u001b[0;32mreturn\u001b[0m \u001b[0;32mNone\u001b[0m\u001b[0;34m\u001b[0m\u001b[0;34m\u001b[0m\u001b[0m\n",
      "\u001b[0;32m~/immunova/immunova/data/fcs_experiments.py\u001b[0m in \u001b[0;36mcreate_file_entry\u001b[0;34m(path, file_id, control_)\u001b[0m\n\u001b[1;32m    405\u001b[0m         \"\"\"\n\u001b[1;32m    406\u001b[0m         \u001b[0;32mdef\u001b[0m \u001b[0mcreate_file_entry\u001b[0m\u001b[0;34m(\u001b[0m\u001b[0mpath\u001b[0m\u001b[0;34m,\u001b[0m \u001b[0mfile_id\u001b[0m\u001b[0;34m,\u001b[0m \u001b[0mcontrol_\u001b[0m\u001b[0;34m=\u001b[0m\u001b[0;32mFalse\u001b[0m\u001b[0;34m)\u001b[0m\u001b[0;34m:\u001b[0m\u001b[0;34m\u001b[0m\u001b[0;34m\u001b[0m\u001b[0m\n\u001b[0;32m--> 407\u001b[0;31m             \u001b[0mfcs\u001b[0m \u001b[0;34m=\u001b[0m \u001b[0mFCSFile\u001b[0m\u001b[0;34m(\u001b[0m\u001b[0mpath\u001b[0m\u001b[0;34m,\u001b[0m \u001b[0mcomp_matrix\u001b[0m\u001b[0;34m=\u001b[0m\u001b[0mcomp_matrix\u001b[0m\u001b[0;34m)\u001b[0m\u001b[0;34m\u001b[0m\u001b[0;34m\u001b[0m\u001b[0m\n\u001b[0m\u001b[1;32m    408\u001b[0m             \u001b[0mnew_file\u001b[0m \u001b[0;34m=\u001b[0m \u001b[0mFile\u001b[0m\u001b[0;34m(\u001b[0m\u001b[0;34m)\u001b[0m\u001b[0;34m\u001b[0m\u001b[0;34m\u001b[0m\u001b[0m\n\u001b[1;32m    409\u001b[0m             \u001b[0mnew_file\u001b[0m\u001b[0;34m.\u001b[0m\u001b[0mfile_id\u001b[0m \u001b[0;34m=\u001b[0m \u001b[0mfile_id\u001b[0m\u001b[0;34m\u001b[0m\u001b[0;34m\u001b[0m\u001b[0m\n",
      "\u001b[0;32m~/immunova/immunova/flow/readwrite/read_fcs.py\u001b[0m in \u001b[0;36m__init__\u001b[0;34m(self, filepath, comp_matrix)\u001b[0m\n\u001b[1;32m     52\u001b[0m     \"\"\"\n\u001b[1;32m     53\u001b[0m     \u001b[0;32mdef\u001b[0m \u001b[0m__init__\u001b[0m\u001b[0;34m(\u001b[0m\u001b[0mself\u001b[0m\u001b[0;34m,\u001b[0m \u001b[0mfilepath\u001b[0m\u001b[0;34m,\u001b[0m \u001b[0mcomp_matrix\u001b[0m\u001b[0;34m=\u001b[0m\u001b[0;32mNone\u001b[0m\u001b[0;34m)\u001b[0m\u001b[0;34m:\u001b[0m\u001b[0;34m\u001b[0m\u001b[0;34m\u001b[0m\u001b[0m\n\u001b[0;32m---> 54\u001b[0;31m         \u001b[0mfcs\u001b[0m \u001b[0;34m=\u001b[0m \u001b[0mflowio\u001b[0m\u001b[0;34m.\u001b[0m\u001b[0mFlowData\u001b[0m\u001b[0;34m(\u001b[0m\u001b[0mfilepath\u001b[0m\u001b[0;34m)\u001b[0m\u001b[0;34m\u001b[0m\u001b[0;34m\u001b[0m\u001b[0m\n\u001b[0m\u001b[1;32m     55\u001b[0m         \u001b[0mself\u001b[0m\u001b[0;34m.\u001b[0m\u001b[0mfilename\u001b[0m \u001b[0;34m=\u001b[0m \u001b[0mfcs\u001b[0m\u001b[0;34m.\u001b[0m\u001b[0mtext\u001b[0m\u001b[0;34m[\u001b[0m\u001b[0;34m'fil'\u001b[0m\u001b[0;34m]\u001b[0m\u001b[0;34m\u001b[0m\u001b[0;34m\u001b[0m\u001b[0m\n\u001b[1;32m     56\u001b[0m         \u001b[0mself\u001b[0m\u001b[0;34m.\u001b[0m\u001b[0msys\u001b[0m \u001b[0;34m=\u001b[0m \u001b[0mfcs\u001b[0m\u001b[0;34m.\u001b[0m\u001b[0mtext\u001b[0m\u001b[0;34m[\u001b[0m\u001b[0;34m'sys'\u001b[0m\u001b[0;34m]\u001b[0m\u001b[0;34m\u001b[0m\u001b[0;34m\u001b[0m\u001b[0m\n",
      "\u001b[0;32m~/immunova/env/lib/python3.6/site-packages/flowio/flowdata.py\u001b[0m in \u001b[0;36m__init__\u001b[0;34m(self, filename)\u001b[0m\n\u001b[1;32m     81\u001b[0m             \u001b[0md_start\u001b[0m\u001b[0;34m,\u001b[0m\u001b[0;34m\u001b[0m\u001b[0;34m\u001b[0m\u001b[0m\n\u001b[1;32m     82\u001b[0m             \u001b[0md_stop\u001b[0m\u001b[0;34m,\u001b[0m\u001b[0;34m\u001b[0m\u001b[0;34m\u001b[0m\u001b[0m\n\u001b[0;32m---> 83\u001b[0;31m             self.text)\n\u001b[0m\u001b[1;32m     84\u001b[0m \u001b[0;34m\u001b[0m\u001b[0m\n\u001b[1;32m     85\u001b[0m         \u001b[0;32mtry\u001b[0m\u001b[0;34m:\u001b[0m\u001b[0;34m\u001b[0m\u001b[0;34m\u001b[0m\u001b[0m\n",
      "\u001b[0;32m~/immunova/env/lib/python3.6/site-packages/flowio/flowdata.py\u001b[0m in \u001b[0;36m__parse_data\u001b[0;34m(self, offset, start, stop, text)\u001b[0m\n\u001b[1;32m    192\u001b[0m                 \u001b[0mstop\u001b[0m\u001b[0;34m,\u001b[0m\u001b[0;34m\u001b[0m\u001b[0;34m\u001b[0m\u001b[0m\n\u001b[1;32m    193\u001b[0m                 \u001b[0mdata_type\u001b[0m\u001b[0;34m.\u001b[0m\u001b[0mlower\u001b[0m\u001b[0;34m(\u001b[0m\u001b[0;34m)\u001b[0m\u001b[0;34m,\u001b[0m\u001b[0;34m\u001b[0m\u001b[0;34m\u001b[0m\u001b[0m\n\u001b[0;32m--> 194\u001b[0;31m                 order)\n\u001b[0m\u001b[1;32m    195\u001b[0m         \u001b[0;32melse\u001b[0m\u001b[0;34m:\u001b[0m  \u001b[0;31m# ascii\u001b[0m\u001b[0;34m\u001b[0m\u001b[0;34m\u001b[0m\u001b[0m\n\u001b[1;32m    196\u001b[0m             data = self.__parse_ascii_data(\n",
      "\u001b[0;32m~/immunova/env/lib/python3.6/site-packages/flowio/flowdata.py\u001b[0m in \u001b[0;36m__parse_float_data\u001b[0;34m(self, offset, start, stop, data_type, order)\u001b[0m\n\u001b[1;32m    256\u001b[0m \u001b[0;34m\u001b[0m\u001b[0m\n\u001b[1;32m    257\u001b[0m         tmp = unpack('%s%d%s' % (order, num_items, data_type),\n\u001b[0;32m--> 258\u001b[0;31m                      self.__read_bytes(offset, start, stop))\n\u001b[0m\u001b[1;32m    259\u001b[0m         \u001b[0;32mreturn\u001b[0m \u001b[0mtmp\u001b[0m\u001b[0;34m\u001b[0m\u001b[0;34m\u001b[0m\u001b[0m\n\u001b[1;32m    260\u001b[0m \u001b[0;34m\u001b[0m\u001b[0m\n",
      "\u001b[0;31mKeyboardInterrupt\u001b[0m: "
     ]
    }
   ],
   "source": [
    "pdmc_t = FCSExperiment.objects(experiment_id='PDMC_T').get()\n",
    "no_files = []\n",
    "errors = []\n",
    "\n",
    "for pt_id in tqdm_notebook(pdmc_sample_ids):\n",
    "    file_paths = get_fp(f'{root}/{pt_id}/t_panel')\n",
    "    if not file_paths['controls']:\n",
    "        if not file_paths['primary']:\n",
    "            no_files.append(pt_id)\n",
    "            continue\n",
    "        if len(file_paths['primary']) == 1:\n",
    "            print(f'Single file found for {pt_id}')\n",
    "            primary = file_paths['primary'][0]\n",
    "            controls = []\n",
    "            pdmc_t.add_new_sample(sample_id=f'pd{pt_id}_t', \n",
    "                                  controls=controls, \n",
    "                                  file_path=primary)\n",
    "        else:\n",
    "            primary = []\n",
    "            controls = []\n",
    "            for f in file_paths['primary']:\n",
    "                if f.find('T2') != -1:\n",
    "                    controls.append(dict(control_id='CXCR3', path=f))\n",
    "                if f.find('T3') != -1:\n",
    "                    controls.append(dict(control_id='CD25', path=f))\n",
    "                if f.find('T4') != -1:\n",
    "                    controls.append(dict(control_id='CD45RA', path=f))\n",
    "                if f.find('T5') != -1:\n",
    "                    controls.append(dict(control_id='CCR7', path=f))\n",
    "                if f.find('T1') != -1:\n",
    "                    primary.append(f)\n",
    "            if not primary:\n",
    "                errors.append(pt_id)\n",
    "                continue                \n",
    "            if len(primary) > 1:\n",
    "                errors.append(pt_id)\n",
    "                continue\n",
    "            if len(controls) > 2:\n",
    "                errors.append(pt_id)\n",
    "                continue\n",
    "            primary = primary[0]\n",
    "            pdmc_t.add_new_sample(sample_id=f'pd{pt_id}_t', \n",
    "                      controls=controls, \n",
    "                      file_path=primary)\n",
    "    else:\n",
    "        if not file_paths['primary']:\n",
    "            errors.append(pt_id)\n",
    "            continue\n",
    "        if len(file_paths['primary'])>1:\n",
    "            errors.append(pt_id)\n",
    "            continue\n",
    "        if len(file_paths['controls'])>4:\n",
    "            errors.append(pt_id)\n",
    "            continue\n",
    "        if len(file_paths['primary']) == 1 and len(file_paths['controls']) == 4:\n",
    "            primary = file_paths['primary'][0]\n",
    "            controls = file_paths['controls']\n",
    "            pdmc_t.add_new_sample(sample_id=f'pd{pt_id}_t', \n",
    "                                  controls=controls, \n",
    "                                  file_path=primary)"
   ]
  },
  {
   "cell_type": "code",
   "execution_count": null,
   "metadata": {},
   "outputs": [],
   "source": []
  }
 ],
 "metadata": {
  "kernelspec": {
   "display_name": "Python 3",
   "language": "python",
   "name": "python3"
  },
  "language_info": {
   "codemirror_mode": {
    "name": "ipython",
    "version": 3
   },
   "file_extension": ".py",
   "mimetype": "text/x-python",
   "name": "python",
   "nbconvert_exporter": "python",
   "pygments_lexer": "ipython3",
   "version": "3.6.8"
  }
 },
 "nbformat": 4,
 "nbformat_minor": 4
}
